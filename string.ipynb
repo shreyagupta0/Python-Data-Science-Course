{
 "cells": [
  {
   "attachments": {},
   "cell_type": "markdown",
   "metadata": {},
   "source": [
    "basics string\n",
    "\n",
    "\n"
   ]
  },
  {
   "cell_type": "code",
   "execution_count": null,
   "metadata": {},
   "outputs": [],
   "source": [
    "a = \"hello\"\n",
    "# we can use double code \"\" inside single codes '' and vise versa\n",
    "#and for writing multi line string we have to use 3 code ''' ''' or \"\"\"\"\"\"\n"
   ]
  },
  {
   "cell_type": "code",
   "execution_count": 2,
   "metadata": {},
   "outputs": [
    {
     "name": "stdout",
     "output_type": "stream",
     "text": [
      " hey\n",
      "hello\n",
      "bye\n",
      "world\n"
     ]
    }
   ],
   "source": [
    "word = \"\"\" hey\n",
    "hello\n",
    "bye\n",
    "world\"\"\"\n",
    "print (word)"
   ]
  },
  {
   "cell_type": "code",
   "execution_count": 6,
   "metadata": {},
   "outputs": [
    {
     "name": "stdout",
     "output_type": "stream",
     "text": [
      "this is john\n",
      "this is \\na \\nraw \\nstring\n",
      ":\\vivek photo\\Wedding\\cinemetic\\100EOS5D\\9Q3A5\n",
      "b'hello'\n"
     ]
    }
   ],
   "source": [
    " #string types\n",
    "name = 'john'\n",
    "message = f'this is {name}' #f use krte hai dusre variable ki value print karane k liye\n",
    "raw_string = r'this is \\na \\nraw \\nstring' # r is use to escape the special character\n",
    "address = r':\\vivek photo\\Wedding\\cinemetic\\100EOS5D\\9Q3A5'\n",
    "binary = b'hello' #binary string or byte string\n",
    "print (message)\n",
    "print (raw_string)\n",
    "print (address)\n",
    "print (binary)\n",
    "\n"
   ]
  },
  {
   "cell_type": "code",
   "execution_count": 18,
   "metadata": {},
   "outputs": [
    {
     "data": {
      "text/plain": [
       "'--------------------------------------------------'"
      ]
     },
     "execution_count": 18,
     "metadata": {},
     "output_type": "execute_result"
    }
   ],
   "source": [
    "#string duplication use * with number jitna time to you want to print\n",
    "\"hello\" * 13\n",
    "\"3 -0\" * 12\n",
    "\"-\" * 50"
   ]
  },
  {
   "cell_type": "code",
   "execution_count": 26,
   "metadata": {},
   "outputs": [
    {
     "name": "stdout",
     "output_type": "stream",
     "text": [
      "12\n",
      "y\n",
      "t\n",
      "s h r e y a\n",
      "s h r e y a\n"
     ]
    },
    {
     "ename": "TypeError",
     "evalue": "'name' is an invalid keyword argument for print()",
     "output_type": "error",
     "traceback": [
      "\u001b[1;31m---------------------------------------------------------------------------\u001b[0m",
      "\u001b[1;31mTypeError\u001b[0m                                 Traceback (most recent call last)",
      "Cell \u001b[1;32mIn[26], line 7\u001b[0m\n\u001b[0;32m      5\u001b[0m \u001b[39mprint\u001b[39m (name[\u001b[39m0\u001b[39m],name[\u001b[39m1\u001b[39m],name[\u001b[39m2\u001b[39m],name[\u001b[39m3\u001b[39m],name[\u001b[39m4\u001b[39m],name[\u001b[39m5\u001b[39m])\n\u001b[0;32m      6\u001b[0m \u001b[39mprint\u001b[39m (name[\u001b[39m-\u001b[39m\u001b[39m12\u001b[39m],name[\u001b[39m-\u001b[39m\u001b[39m11\u001b[39m],name[\u001b[39m-\u001b[39m\u001b[39m10\u001b[39m],name[\u001b[39m-\u001b[39m\u001b[39m9\u001b[39m],name[\u001b[39m-\u001b[39m\u001b[39m8\u001b[39m],name[\u001b[39m-\u001b[39m\u001b[39m7\u001b[39m])\n\u001b[1;32m----> 7\u001b[0m \u001b[39mprint\u001b[39;49m (name \u001b[39m=\u001b[39;49m[\u001b[39m12\u001b[39;49m])\n\u001b[0;32m      8\u001b[0m \u001b[39mprint\u001b[39m (name[\u001b[39m12\u001b[39m])\n",
      "\u001b[1;31mTypeError\u001b[0m: 'name' is an invalid keyword argument for print()"
     ]
    }
   ],
   "source": [
    "name = 'shreya gupta'\n",
    "print (len(name))\n",
    "print (name[4])\n",
    "print (name[-2])\n",
    "print (name[0],name[1],name[2],name[3],name[4],name[5])\n",
    "print (name[-12],name[-11],name[-10],name[-9],name[-8],name[-7])\n",
    "#print (name =[12])\n",
    "#print (name[12])"
   ]
  },
  {
   "cell_type": "code",
   "execution_count": 27,
   "metadata": {},
   "outputs": [
    {
     "ename": "TypeError",
     "evalue": "'str' object does not support item assignment",
     "output_type": "error",
     "traceback": [
      "\u001b[1;31m---------------------------------------------------------------------------\u001b[0m",
      "\u001b[1;31mTypeError\u001b[0m                                 Traceback (most recent call last)",
      "Cell \u001b[1;32mIn[27], line 2\u001b[0m\n\u001b[0;32m      1\u001b[0m \u001b[39m#string are immutable \u001b[39;00m\n\u001b[1;32m----> 2\u001b[0m name[\u001b[39m10\u001b[39m] \u001b[39m=\u001b[39m \u001b[39m'\u001b[39m\u001b[39mh\u001b[39m\u001b[39m'\u001b[39m\n",
      "\u001b[1;31mTypeError\u001b[0m: 'str' object does not support item assignment"
     ]
    }
   ],
   "source": [
    "#string are immutable  so we cannot use this\n",
    "name[10] = 'h'"
   ]
  },
  {
   "cell_type": "code",
   "execution_count": 36,
   "metadata": {},
   "outputs": [
    {
     "name": "stdout",
     "output_type": "stream",
     "text": [
      "19\n",
      "s\n",
      "shake\n",
      "will\n",
      "pear\n",
      "william\n"
     ]
    }
   ],
   "source": [
    "#slicing \n",
    "#slicing str[start : end: step]\n",
    "name = \"william shakespeare\"\n",
    "print(len(name))\n",
    "print(name [8])\n",
    "print(name[8:13])\n",
    "print(name[0:4])\n",
    "print(name[-5:-1])\n",
    "print(name[:7])\n",
    "\n"
   ]
  },
  {
   "cell_type": "code",
   "execution_count": 65,
   "metadata": {},
   "outputs": [
    {
     "name": "stdout",
     "output_type": "stream",
     "text": [
      "26\n",
      "journey \n",
      "before \n",
      "destination\n"
     ]
    }
   ],
   "source": [
    "sen = \"journey before destination\"\n",
    "print(len(sen))\n",
    "print(sen[:8])\n",
    "print(sen[8:15])\n",
    "print(sen[-11:])"
   ]
  },
  {
   "cell_type": "code",
   "execution_count": 70,
   "metadata": {},
   "outputs": [
    {
     "name": "stdout",
     "output_type": "stream",
     "text": [
      "elt\n",
      "ulpu\n",
      "sutpylcue\n"
     ]
    }
   ],
   "source": [
    "word =\"euclyptus\"\n",
    "print (word[::3]) #last vala gap deta h for skipping\n",
    "print (word[1: :2])\n",
    "print (word[::-1]) #reversing the string"
   ]
  },
  {
   "cell_type": "code",
   "execution_count": 72,
   "metadata": {},
   "outputs": [
    {
     "name": "stdout",
     "output_type": "stream",
     "text": [
      "100000.00\n"
     ]
    }
   ],
   "source": [
    "amount = \"$100000.00\"\n",
    "amount = amount[1:]\n",
    "print (amount)"
   ]
  },
  {
   "cell_type": "code",
   "execution_count": 78,
   "metadata": {},
   "outputs": [
    {
     "name": "stdout",
     "output_type": "stream",
     "text": [
      "Vikram \n",
      "Prasad\n"
     ]
    }
   ],
   "source": [
    "name = \"Dr.Vikram Prasad\"\n",
    "firstname = name[3:10]\n",
    "lastname = name[10:]\n",
    "print(firstname)\n",
    "print(lastname)\n",
    "\n",
    "\n"
   ]
  },
  {
   "cell_type": "code",
   "execution_count": 79,
   "metadata": {},
   "outputs": [
    {
     "name": "stdout",
     "output_type": "stream",
     "text": [
      "python\n"
     ]
    }
   ],
   "source": [
    "word = \"__python__\"\n",
    "print(word[2:-2]) #skip first 2 and last 2 element"
   ]
  },
  {
   "cell_type": "code",
   "execution_count": 2,
   "metadata": {},
   "outputs": [
    {
     "data": {
      "text/plain": [
       "' a  a  a  a  a  a  a  a  a  a '"
      ]
     },
     "execution_count": 2,
     "metadata": {},
     "output_type": "execute_result"
    }
   ],
   "source": [
    "\" a \" * 10"
   ]
  },
  {
   "cell_type": "code",
   "execution_count": 3,
   "metadata": {},
   "outputs": [
    {
     "data": {
      "text/plain": [
       "' hello  hello  hello  hello  hello  hello  hello  hello  hello  hello '"
      ]
     },
     "execution_count": 3,
     "metadata": {},
     "output_type": "execute_result"
    }
   ],
   "source": [
    "\" hello \" * 10"
   ]
  }
 ],
 "metadata": {
  "kernelspec": {
   "display_name": "base",
   "language": "python",
   "name": "python3"
  },
  "language_info": {
   "codemirror_mode": {
    "name": "ipython",
    "version": 3
   },
   "file_extension": ".py",
   "mimetype": "text/x-python",
   "name": "python",
   "nbconvert_exporter": "python",
   "pygments_lexer": "ipython3",
   "version": "3.9.12"
  },
  "orig_nbformat": 4,
  "vscode": {
   "interpreter": {
    "hash": "8c46ac5aaab4d3c9f2f9be91c3b9b95f2b8ede1f4aae554ca1e34eefcba1468b"
   }
  }
 },
 "nbformat": 4,
 "nbformat_minor": 2
}
