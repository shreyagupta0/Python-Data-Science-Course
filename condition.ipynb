{
 "cells": [
  {
   "cell_type": "code",
   "execution_count": null,
   "metadata": {},
   "outputs": [],
   "source": []
  },
  {
   "cell_type": "code",
   "execution_count": 1,
   "metadata": {},
   "outputs": [
    {
     "name": "stdout",
     "output_type": "stream",
     "text": [
      "value is less than 100\n"
     ]
    }
   ],
   "source": [
    "val = 58\n",
    "if val < 100 : # : is for start of block\n",
    "    print (\"value is less than 100\")"
   ]
  },
  {
   "cell_type": "code",
   "execution_count": 2,
   "metadata": {},
   "outputs": [
    {
     "name": "stdout",
     "output_type": "stream",
     "text": [
      "value\n"
     ]
    }
   ],
   "source": [
    "val = 20 \n",
    "if val >=20:\n",
    "    print (\"value\")"
   ]
  },
  {
   "cell_type": "code",
   "execution_count": 6,
   "metadata": {},
   "outputs": [
    {
     "name": "stdout",
     "output_type": "stream",
     "text": [
      "value is greater than 100\n"
     ]
    }
   ],
   "source": [
    "val = 390\n",
    "if val>100:\n",
    "    print (\"value is greater than 100\")"
   ]
  },
  {
   "cell_type": "code",
   "execution_count": 19,
   "metadata": {},
   "outputs": [
    {
     "name": "stdout",
     "output_type": "stream",
     "text": [
      "yes\n"
     ]
    }
   ],
   "source": [
    "val = 21\n",
    "if val >= 18:\n",
    "    print (\"yes\")\n",
    "else :\n",
    "    print (\"no\")"
   ]
  },
  {
   "cell_type": "code",
   "execution_count": 28,
   "metadata": {},
   "outputs": [
    {
     "ename": "",
     "evalue": "",
     "output_type": "error",
     "traceback": [
      "\u001b[1;31mCanceled future for execute_request message before replies were done"
     ]
    }
   ],
   "source": [
    " username = input (\"enter your user name\")\n",
    " password = input (\" enter your password\")\n",
    " if username == 'admin' and password =='admin':\n",
    "    print (\"welcome\")\n",
    " else:\n",
    "        print (\"invalid\")\n",
    " "
   ]
  },
  {
   "cell_type": "code",
   "execution_count": 3,
   "metadata": {},
   "outputs": [
    {
     "name": "stdout",
     "output_type": "stream",
     "text": [
      "welcome\n"
     ]
    }
   ],
   "source": [
    "# nested statement\n",
    "username = input (\"enter your user name\")\n",
    "password = input (\" enter your password\")\n",
    "if username == 'admin':\n",
    "    if password == 'admin':\n",
    "        print (\"welcome\")\n",
    "    else:\n",
    "        print (\"invalid password\")\n",
    "else:\n",
    "    print (\"invalid name\")        "
   ]
  },
  {
   "cell_type": "code",
   "execution_count": 7,
   "metadata": {},
   "outputs": [
    {
     "name": "stdout",
     "output_type": "stream",
     "text": [
      "welcome\n"
     ]
    }
   ],
   "source": [
    "#negative statement\n",
    "username = input (\"enter your user name\")\n",
    "password = input (\" enter your password\")\n",
    "e = False\n",
    "if username != 'admin':\n",
    "    print (\"you dont have permission\")\n",
    "    e = True\n",
    "if password != 'admin':\n",
    "        print (\"wrong password\")\n",
    "        e = True\n",
    "if not e:\n",
    "            print (\"welcome\")\n",
    "\n"
   ]
  },
  {
   "cell_type": "code",
   "execution_count": 10,
   "metadata": {},
   "outputs": [
    {
     "name": "stdout",
     "output_type": "stream",
     "text": [
      "hey\n"
     ]
    }
   ],
   "source": [
    "username = input (\"enter your user name\")\n",
    "password = input (\" enter your password\")\n",
    "if username != 'admin':\n",
    "    print (\"not welcome\")\n",
    "elif password != 'admin':\n",
    "        print (\"wrong pw\")\n",
    "else :\n",
    "    print (\"hey\")        \n"
   ]
  },
  {
   "cell_type": "code",
   "execution_count": 2,
   "metadata": {},
   "outputs": [
    {
     "name": "stdout",
     "output_type": "stream",
     "text": [
      "salary with bonus : 105000.0\n"
     ]
    }
   ],
   "source": [
    "#A company decided to give bonus of 5% to employee if his/her year of service is more than 5 years.\n",
    "#Ask user for their salary and year of service and print the net bonus amount\n",
    "salary = input (\"enter your salary\")\n",
    "salary = int(salary) \n",
    "service = input(\"year of service\")\n",
    "service = int(service)\n",
    "if service > 5 :\n",
    "    sal = salary + salary * .05\n",
    "    print (\"salary with bonus :\" , sal)\n",
    "else:\n",
    "    print (\"not eligible for bonus\")    "
   ]
  },
  {
   "cell_type": "code",
   "execution_count": 6,
   "metadata": {},
   "outputs": [
    {
     "name": "stdout",
     "output_type": "stream",
     "text": [
      "rect\n"
     ]
    }
   ],
   "source": [
    "#Take values of length and breadth of a rectangle from user and check if it is square or not.\n",
    "len = input(\"enter length\")\n",
    "len = int(len)\n",
    "bre = input (\"enter breadth\")\n",
    "bre = int(bre)\n",
    "if len == bre:\n",
    "    print (\"sqaure\")\n",
    "else :\n",
    "    print (\"rect\")    \n"
   ]
  },
  {
   "cell_type": "code",
   "execution_count": 8,
   "metadata": {},
   "outputs": [
    {
     "name": "stdout",
     "output_type": "stream",
     "text": [
      "equal\n"
     ]
    }
   ],
   "source": [
    "#Take two int values from user and print greatest among them.\n",
    "f = input (\"enter fisrt value\")\n",
    "f = int(f)\n",
    "s = input (\"enter second value\")\n",
    "s =int(s)\n",
    "if f>s:\n",
    "    print (\"f\")\n",
    "elif s>f:\n",
    "    print (\"s\")\n",
    "else :\n",
    "    print(\"equal\")        "
   ]
  },
  {
   "cell_type": "code",
   "execution_count": 12,
   "metadata": {},
   "outputs": [
    {
     "name": "stdout",
     "output_type": "stream",
     "text": [
      "1350.0\n"
     ]
    }
   ],
   "source": [
    "#A shop will give discount of 10% if the cost of purchased quantity is more than 1000.\n",
    "#Ask user for quantity\n",
    "#Suppose, one unit will cost 100.\n",
    "#Judge and print total cost for user\n",
    "quan = input(\"enter quan\")\n",
    "quan = int(quan)\n",
    "if quan*100>1000:\n",
    "   print((quan*100) - (quan*100 *.1))\n",
    "else:\n",
    "    print(\"no dis\")   "
   ]
  },
  {
   "attachments": {},
   "cell_type": "markdown",
   "metadata": {},
   "source": [
    "A school has following rules for grading system:\n",
    "a. Below 25 - F\n",
    "b. 25 to 45 - E\n",
    "c. 45 to 50 - D\n",
    "d. 50 to 60 - C\n",
    "e. 60 to 80 - B\n",
    "f. Above 80 - A\n",
    "Ask user to enter marks and print the corresponding grade."
   ]
  },
  {
   "cell_type": "code",
   "execution_count": 16,
   "metadata": {},
   "outputs": [
    {
     "name": "stdout",
     "output_type": "stream",
     "text": [
      "f\n"
     ]
    }
   ],
   "source": [
    "m = input (\"enter marks\")\n",
    "m = int(m)\n",
    "if m < 25:\n",
    "    print (\"f\")\n",
    "elif m > 25 and m < 45:\n",
    "    print (\"e\")\n",
    "elif  m > 45 and m < 50:\n",
    "    print (\"d\")       \n",
    "elif  m > 50 and m< 60:\n",
    "    print (\"c\")\n",
    "elif m > 60 and m < 80:    \n",
    "    print (\"b\")\n",
    "else :\n",
    " print (\"a\")   "
   ]
  },
  {
   "cell_type": "code",
   "execution_count": 19,
   "metadata": {},
   "outputs": [],
   "source": [
    "#Take input of age of 3 people by user and determine oldest and youngest among them.\n",
    "a = input(\"enter age1\")\n",
    "a = int(a)\n",
    "b = input(\"enter age2\")\n",
    "b = int(b)\n",
    "c = input (\"enter age3\")\n",
    "c = int (c)\n",
    "if a>b and a>c:\n",
    "    print (\"a\")\n",
    "    e = a\n",
    "elif b>a and b>c:\n",
    "    print (\"b\")\n",
    "    e=b\n",
    "elif c>a and c>b:\n",
    "    print(\"c\") \n",
    "    e=c\n",
    "    if e<b and e< c:\n",
    "        print (\"as\")\n",
    "    elif e<a and e <c:\n",
    "         print (\"bs\")\n",
    "    elif e<a and e<b:\n",
    "         print(\"cs\")  \n",
    "else :\n",
    "    print(\"equal\")"
   ]
  }
 ],
 "metadata": {
  "kernelspec": {
   "display_name": "base",
   "language": "python",
   "name": "python3"
  },
  "language_info": {
   "codemirror_mode": {
    "name": "ipython",
    "version": 3
   },
   "file_extension": ".py",
   "mimetype": "text/x-python",
   "name": "python",
   "nbconvert_exporter": "python",
   "pygments_lexer": "ipython3",
   "version": "3.9.12 (main, Apr  4 2022, 05:22:27) [MSC v.1916 64 bit (AMD64)]"
  },
  "orig_nbformat": 4,
  "vscode": {
   "interpreter": {
    "hash": "8c46ac5aaab4d3c9f2f9be91c3b9b95f2b8ede1f4aae554ca1e34eefcba1468b"
   }
  }
 },
 "nbformat": 4,
 "nbformat_minor": 2
}
