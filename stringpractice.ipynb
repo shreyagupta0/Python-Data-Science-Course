{
 "cells": [
  {
   "cell_type": "code",
   "execution_count": 10,
   "metadata": {},
   "outputs": [
    {
     "name": "stdout",
     "output_type": "stream",
     "text": [
      "Pto\n",
      "Python is easy \n",
      "Python is easy \n",
      "PYTHON IS EASY \n",
      "Python is not easy \n"
     ]
    }
   ],
   "source": [
    "#slicing\n",
    "str = \"Python is easy \"\n",
    "print(str[0:6:2])\n",
    "str.capitalize()\n",
    "print(str)\n",
    "str.title()\n",
    "print(str)\n",
    "print(str.upper())\n",
    "print(str.replace('easy','not easy'))\n",
    "\n"
   ]
  },
  {
   "cell_type": "code",
   "execution_count": 12,
   "metadata": {},
   "outputs": [
    {
     "name": "stdout",
     "output_type": "stream",
     "text": [
      "no\n"
     ]
    }
   ],
   "source": [
    "if str.isnumeric():\n",
    "    print(\"yes\")\n",
    "else:\n",
    "    print(\"no\")\n"
   ]
  },
  {
   "cell_type": "code",
   "execution_count": 5,
   "metadata": {},
   "outputs": [
    {
     "name": "stdout",
     "output_type": "stream",
     "text": [
      "23\n",
      "876.0\n",
      "3.14\n",
      "hey shreya\n",
      "hey\n"
     ]
    }
   ],
   "source": [
    "num = int(input(\"enter the number\"))\n",
    "amount = float(input(\"enter the amount\"))\n",
    "pi = float(input(\"enter the pi\"))\n",
    "name = str(input(\"enter the string\"))\n",
    "print(num)\n",
    "print(amount)\n",
    "print(pi)\n",
    "print(name)\n",
    "print(name[0:3])"
   ]
  },
  {
   "cell_type": "code",
   "execution_count": 6,
   "metadata": {},
   "outputs": [
    {
     "name": "stdout",
     "output_type": "stream",
     "text": [
      "45\n"
     ]
    }
   ],
   "source": [
    "#write a program to print the digit at tens place\n",
    "num = int(input(\"enter the number\"))\n",
    "tensplace = num%100\n",
    "print(tensplace)"
   ]
  },
  {
   "cell_type": "code",
   "execution_count": 7,
   "metadata": {},
   "outputs": [
    {
     "name": "stdout",
     "output_type": "stream",
     "text": [
      "5\n"
     ]
    }
   ],
   "source": [
    "num= int(input(\"enter the number\"))\n",
    "ones = num%10\n",
    "print(ones)"
   ]
  },
  {
   "cell_type": "code",
   "execution_count": 15,
   "metadata": {},
   "outputs": [
    {
     "name": "stdout",
     "output_type": "stream",
     "text": [
      "alnum : 67h\n"
     ]
    }
   ],
   "source": [
    "char = input(\"enter the character\")\n",
    "if char.isnumeric():\n",
    "    print(\"num :\",char)\n",
    "if char.isalpha():\n",
    "        print(\"str :\",char)\n",
    "if char.isalnum():\n",
    "            print(\"alnum :\" ,char)\n"
   ]
  },
  {
   "cell_type": "code",
   "execution_count": 7,
   "metadata": {},
   "outputs": [
    {
     "name": "stdout",
     "output_type": "stream",
     "text": [
      "vote buddy\n"
     ]
    }
   ],
   "source": [
    "age = int(input(\"enter your age\"))\n",
    "if age>=18:\n",
    "    print(\"vote buddy\")\n",
    "else:\n",
    "    left = 18-age\n",
    "    print(left)\n"
   ]
  },
  {
   "cell_type": "code",
   "execution_count": 10,
   "metadata": {},
   "outputs": [
    {
     "data": {
      "text/plain": [
       "5600"
      ]
     },
     "execution_count": 10,
     "metadata": {},
     "output_type": "execute_result"
    }
   ],
   "source": [
    "a * 100"
   ]
  },
  {
   "cell_type": "code",
   "execution_count": 13,
   "metadata": {},
   "outputs": [
    {
     "data": {
      "text/plain": [
       "56000"
      ]
     },
     "execution_count": 13,
     "metadata": {},
     "output_type": "execute_result"
    }
   ],
   "source": [
    "_ * 10"
   ]
  }
 ],
 "metadata": {
  "kernelspec": {
   "display_name": "base",
   "language": "python",
   "name": "python3"
  },
  "language_info": {
   "codemirror_mode": {
    "name": "ipython",
    "version": 3
   },
   "file_extension": ".py",
   "mimetype": "text/x-python",
   "name": "python",
   "nbconvert_exporter": "python",
   "pygments_lexer": "ipython3",
   "version": "3.9.12 (main, Apr  4 2022, 05:22:27) [MSC v.1916 64 bit (AMD64)]"
  },
  "orig_nbformat": 4,
  "vscode": {
   "interpreter": {
    "hash": "8c46ac5aaab4d3c9f2f9be91c3b9b95f2b8ede1f4aae554ca1e34eefcba1468b"
   }
  }
 },
 "nbformat": 4,
 "nbformat_minor": 2
}
