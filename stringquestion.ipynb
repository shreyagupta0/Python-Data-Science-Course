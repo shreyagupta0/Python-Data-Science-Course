{
 "cells": [
  {
   "cell_type": "code",
   "execution_count": 21,
   "metadata": {},
   "outputs": [
    {
     "name": "stdout",
     "output_type": "stream",
     "text": [
      "a = 0 times\n",
      "b = 0 times\n",
      "c = 1 times\n",
      "d = 2 times\n",
      "e = 1 times\n",
      "f = 0 times\n",
      "g = 0 times\n",
      "h = 1 times\n",
      "i = 2 times\n",
      "j = 0 times\n",
      "k = 0 times\n",
      "l = 1 times\n",
      "m = 0 times\n",
      "n = 2 times\n",
      "o = 4 times\n",
      "p = 0 times\n",
      "q = 0 times\n",
      "r = 2 times\n",
      "s = 0 times\n",
      "t = 4 times\n",
      "u = 1 times\n",
      "v = 0 times\n",
      "w = 1 times\n",
      "x = 0 times\n",
      "y = 0 times\n",
      "z = 0 times\n"
     ]
    }
   ],
   "source": [
    "\n",
    "str = \"introduction to the world\"\n",
    "from string import ascii_lowercase\n",
    "for char in ascii_lowercase:\n",
    "    word = str.count(char)\n",
    "    print(f'{char} = {word} times')\n"
   ]
  },
  {
   "cell_type": "code",
   "execution_count": 29,
   "metadata": {},
   "outputs": [
    {
     "name": "stdout",
     "output_type": "stream",
     "text": [
      "a = 0\n",
      "e = 1\n",
      "i = 2\n",
      "o = 4\n",
      "u = 1\n"
     ]
    }
   ],
   "source": [
    "#wap to count all the vowels in a string data\n",
    "from string import ascii_lowercase\n",
    "for i in ascii_lowercase:\n",
    "    if(i=='a' or i=='e' or i=='o' or i=='u' or i=='i'):\n",
    "           v=str.count(i)\n",
    "           print(f'{i} = {v}')\n",
    "\n",
    "    \n"
   ]
  },
  {
   "cell_type": "code",
   "execution_count": 26,
   "metadata": {},
   "outputs": [
    {
     "name": "stdout",
     "output_type": "stream",
     "text": [
      "7\n"
     ]
    }
   ],
   "source": [
    "#wap to count all the words in a string\n",
    "str1 = \"to count all the words in a string\"\n",
    "no = str1.count(' ')\n",
    "print(no)"
   ]
  },
  {
   "cell_type": "code",
   "execution_count": 1,
   "metadata": {},
   "outputs": [
    {
     "name": "stdout",
     "output_type": "stream",
     "text": [
      "wordcount=2\n"
     ]
    }
   ],
   "source": [
    "#word counting\n",
    "data = input(\"enter the string\")\n",
    "wordcount= len(data.split())\n",
    "print(f'{wordcount=}')"
   ]
  },
  {
   "cell_type": "code",
   "execution_count": 28,
   "metadata": {},
   "outputs": [
    {
     "name": "stdout",
     "output_type": "stream",
     "text": [
      "c = 1\n",
      "d = 2\n",
      "e = 1\n",
      "h = 1\n",
      "i = 2\n",
      "l = 1\n",
      "n = 2\n",
      "o = 4\n",
      "r = 2\n",
      "t = 4\n",
      "u = 1\n",
      "w = 1\n"
     ]
    }
   ],
   "source": [
    "#wap to max occuring character in a string\n",
    "from string import ascii_lowercase\n",
    "for i in ascii_lowercase:\n",
    "    v = str.count(i)\n",
    "    if v>0:\n",
    "        print(f'{i} = {v}')\n"
   ]
  },
  {
   "cell_type": "code",
   "execution_count": 2,
   "metadata": {},
   "outputs": [
    {
     "name": "stdout",
     "output_type": "stream",
     "text": [
      "a occured 5 times\n"
     ]
    }
   ],
   "source": [
    "#max occ.character\n",
    "data = input(\"enter the string\")\n",
    "mx = ''\n",
    "cnt = 0\n",
    "for char in data:\n",
    "    count = data.count(char)\n",
    "    if count>cnt:\n",
    "        mx = char \n",
    "        cnt = count\n",
    "print(f'{mx} occured {cnt} times')        "
   ]
  },
  {
   "cell_type": "code",
   "execution_count": 6,
   "metadata": {},
   "outputs": [
    {
     "name": "stdout",
     "output_type": "stream",
     "text": [
      "a occured 3 times\n"
     ]
    }
   ],
   "source": [
    "#wap to most common vowel in a string data\n",
    "data = input(\"enter the string\")\n",
    "mx =''\n",
    "cnt=0\n",
    "for char in \"aeiou\":\n",
    "    count = data.count(char)\n",
    "    if count>cnt:\n",
    "        mx = char\n",
    "        cnt = count\n",
    "print(f'{mx} occured {cnt} times')         \n"
   ]
  },
  {
   "cell_type": "code",
   "execution_count": 3,
   "metadata": {},
   "outputs": [
    {
     "name": "stdout",
     "output_type": "stream",
     "text": [
      "shreya   is good hs9iy\n",
      "shreyaisgoodhs9iy\n"
     ]
    }
   ],
   "source": [
    "#remove all the spaces from the string\n",
    "data = input(\"enter the string\")\n",
    "print(data)\n",
    "data = data.replace(' ','')\n",
    "print(data)"
   ]
  },
  {
   "cell_type": "code",
   "execution_count": 5,
   "metadata": {},
   "outputs": [
    {
     "name": "stdout",
     "output_type": "stream",
     "text": [
      "!@#$%^&*()+\":?><{}POIU\n",
      "POIU\n"
     ]
    }
   ],
   "source": [
    "#remove all punctuations from the string\n",
    "from string import punctuation\n",
    "data = input(\"enter the data\")\n",
    "print (data)\n",
    "for char in punctuation:\n",
    "    data = data.replace(char,'')\n",
    "print(data)    "
   ]
  },
  {
   "cell_type": "code",
   "execution_count": null,
   "metadata": {},
   "outputs": [],
   "source": []
  }
 ],
 "metadata": {
  "kernelspec": {
   "display_name": "base",
   "language": "python",
   "name": "python3"
  },
  "language_info": {
   "codemirror_mode": {
    "name": "ipython",
    "version": 3
   },
   "file_extension": ".py",
   "mimetype": "text/x-python",
   "name": "python",
   "nbconvert_exporter": "python",
   "pygments_lexer": "ipython3",
   "version": "3.9.12"
  },
  "orig_nbformat": 4,
  "vscode": {
   "interpreter": {
    "hash": "8c46ac5aaab4d3c9f2f9be91c3b9b95f2b8ede1f4aae554ca1e34eefcba1468b"
   }
  }
 },
 "nbformat": 4,
 "nbformat_minor": 2
}
