{
 "cells": [
  {
   "cell_type": "code",
   "execution_count": 1,
   "metadata": {},
   "outputs": [
    {
     "name": "stdout",
     "output_type": "stream",
     "text": [
      "[1, 2, 3, 4, 5, 6, 7, 8, 9, 10]\n",
      "[1, 4, 9, 16, 25, 36, 49, 64, 81, 100]\n"
     ]
    }
   ],
   "source": [
    "a = [1,2,3,4,5,6,7,8,9,10]\n",
    "a2 = []\n",
    "for i in a :\n",
    "    a2.append(i**2)\n",
    "print(a)\n",
    "print(a2)    "
   ]
  },
  {
   "cell_type": "code",
   "execution_count": 2,
   "metadata": {},
   "outputs": [
    {
     "name": "stdout",
     "output_type": "stream",
     "text": [
      "[1, 8, 27, 64, 125, 216, 343, 512, 729, 1000]\n"
     ]
    }
   ],
   "source": [
    "a3 = [i**3 for i in a]\n",
    "print(a3)"
   ]
  },
  {
   "attachments": {},
   "cell_type": "markdown",
   "metadata": {},
   "source": [
    "newlist = [operation loop condition]"
   ]
  },
  {
   "cell_type": "code",
   "execution_count": null,
   "metadata": {},
   "outputs": [],
   "source": [
    "creating a list of five names , then use comprehension to create another list\n",
    "that will contain only first letter from each names"
   ]
  },
  {
   "cell_type": "code",
   "execution_count": 4,
   "metadata": {},
   "outputs": [
    {
     "name": "stdout",
     "output_type": "stream",
     "text": [
      "['shreya', 'mitali', 'nidhi', 'pihu', 'ela']\n",
      "['s', 'm', 'n', 'p', 'e']\n"
     ]
    }
   ],
   "source": [
    "name = ['shreya','mitali','nidhi','pihu','ela']\n",
    "name2 = []\n",
    "for i in name:\n",
    "    name2.append(i[0])\n",
    "print(name)\n",
    "print(name2)    \n"
   ]
  },
  {
   "cell_type": "code",
   "execution_count": 8,
   "metadata": {},
   "outputs": [
    {
     "name": "stdout",
     "output_type": "stream",
     "text": [
      "['s', 'm', 'n', 'p', 'e']\n"
     ]
    }
   ],
   "source": [
    "#comprehension\n",
    "com = [(i[0]) for i in name ]\n",
    "print(com)"
   ]
  },
  {
   "cell_type": "code",
   "execution_count": 4,
   "metadata": {},
   "outputs": [
    {
     "name": "stdout",
     "output_type": "stream",
     "text": [
      "[1, 2, 5, 3, 2, 1, 16, 8, 21, 56, 23, 23, 6]\n",
      "[1.0, 1.0, 8.0, 4.0, 28.0, 3.0]\n"
     ]
    }
   ],
   "source": [
    "b = [1,2,5,3,2,1,16,8,21,56,23,23,6]\n",
    "b2 = []\n",
    "for i in b:\n",
    "    if i % 2 == 0:\n",
    "        b2.append(i/2)\n",
    "print(b)\n",
    "print(b2)        "
   ]
  },
  {
   "cell_type": "code",
   "execution_count": 6,
   "metadata": {},
   "outputs": [
    {
     "name": "stdout",
     "output_type": "stream",
     "text": [
      "[1.0, 1.0, 8.0, 4.0, 28.0, 3.0]\n"
     ]
    }
   ],
   "source": [
    "#comprehension\n",
    "\n",
    "b3 = [i/2 for i in b  if i % 2 == 0]\n",
    "print(b3)"
   ]
  },
  {
   "cell_type": "code",
   "execution_count": 14,
   "metadata": {},
   "outputs": [
    {
     "name": "stdout",
     "output_type": "stream",
     "text": [
      "[1, 5, 3, 7, 45, 97, 23]\n"
     ]
    }
   ],
   "source": [
    "#create a list of 10 numbers then use comprehension to create another list of only odd numbers \n",
    "\n",
    "num = [ 1,34,5,3,7,8,45,54,97,23]\n",
    "#num2 = []\n",
    "#for i in num:\n",
    "    #if i%2!=0:\n",
    "        #num2.append(i)\n",
    "#print(num2)\n",
    "\n",
    "odd = [i for i in num if i%2!=0]\n",
    "print(odd)"
   ]
  },
  {
   "cell_type": "code",
   "execution_count": 16,
   "metadata": {},
   "outputs": [
    {
     "name": "stdout",
     "output_type": "stream",
     "text": [
      "[34, 8, 54]\n",
      "[1, 34, 5, 3, 7, 8, 45, 54, 97, 23]\n"
     ]
    }
   ],
   "source": [
    "#create a list of 10 numbers then use comprehension to create another list of only even numbers \n",
    "\n",
    "even = [i for i in num if i %2 ==0]\n",
    "print(even)\n",
    "print(num)\n"
   ]
  },
  {
   "cell_type": "code",
   "execution_count": null,
   "metadata": {},
   "outputs": [
    {
     "ename": "",
     "evalue": "",
     "output_type": "error",
     "traceback": [
      "\u001b[1;31mFailed to start the Kernel. \n",
      "\u001b[1;31mUnable to start Kernel 'base (Python 3.9.12)' due to a timeout waiting for the ports to get used. \n",
      "\u001b[1;31mView Jupyter <a href='command:jupyter.viewOutput'>log</a> for further details."
     ]
    }
   ],
   "source": [
    "#create a list a then use comprehension to create another list of only int number\n",
    "a = ['2','3','5','10']\n",
    "a2 = [int(a) for i in a]\n",
    "print(i)"
   ]
  },
  {
   "cell_type": "code",
   "execution_count": 4,
   "metadata": {},
   "outputs": [
    {
     "name": "stdout",
     "output_type": "stream",
     "text": [
      "[1, 2, 3, 4, 5, 6, 7, 8, 9, 10]\n"
     ]
    }
   ],
   "source": [
    "#wap to add elements of 2 list in a 3rdd list using comprehension , assuming both list are equal in length\n",
    " \n",
    "a = [1,2,3,4,5]\n",
    "b = [6,7,8,9,10]\n",
    "c = []\n",
    "c = a +b\n",
    "print(c)"
   ]
  },
  {
   "cell_type": "code",
   "execution_count": 7,
   "metadata": {},
   "outputs": [
    {
     "name": "stdout",
     "output_type": "stream",
     "text": [
      "0 red\n",
      "1 green\n",
      "2 yellow\n",
      "3 pink\n",
      "4 blue\n",
      "4\n",
      "blue\n"
     ]
    }
   ],
   "source": [
    "#enumarate() count the index like 0 1 2 3\n",
    "\n",
    "colors = ['red','green','yellow','pink','blue']\n",
    "for i ,j in enumerate(colors):\n",
    "    print(i,j)\n",
    "print(i)\n",
    "print(j)"
   ]
  },
  {
   "cell_type": "code",
   "execution_count": 10,
   "metadata": {},
   "outputs": [
    {
     "name": "stdout",
     "output_type": "stream",
     "text": [
      "@ red\n",
      "# green\n",
      "@ yellow\n",
      "# pink\n",
      "@ blue\n"
     ]
    }
   ],
   "source": [
    "for index , value in enumerate(colors):\n",
    "    if index % 2 ==0:\n",
    "        print(f\"@ {value}\")\n",
    "    else:\n",
    "        print(f'# {value}')    "
   ]
  },
  {
   "cell_type": "code",
   "execution_count": 12,
   "metadata": {},
   "outputs": [],
   "source": [
    "#zip  function multiple list pr ek sath work kr skti hai\n",
    "\n",
    "name = ['shreya','mars','sam','alice']\n",
    "hindi = [56,78,90,43]\n",
    "english = [67,76,98,54]\n"
   ]
  },
  {
   "cell_type": "code",
   "execution_count": 14,
   "metadata": {},
   "outputs": [
    {
     "name": "stdout",
     "output_type": "stream",
     "text": [
      "shreya got 56 in hindi  and 67 in english\n",
      "mars got 78 in hindi  and 76 in english\n",
      "sam got 90 in hindi  and 98 in english\n",
      "alice got 43 in hindi  and 54 in english\n"
     ]
    }
   ],
   "source": [
    "for n , i , j in zip (name, hindi,english):\n",
    "    print(f'{n} got {i} in hindi  and {j} in english')\n"
   ]
  },
  {
   "cell_type": "code",
   "execution_count": 27,
   "metadata": {},
   "outputs": [
    {
     "name": "stdout",
     "output_type": "stream",
     "text": [
      " shreya     got56  hindi and 67 english and total=123\n",
      " mars       got78  hindi and 76 english and total=154\n",
      " sam        got90  hindi and 98 english and total=188\n",
      " alice      got43  hindi and 54 english and total=97\n"
     ]
    }
   ],
   "source": [
    "for n , i , j in zip (name, hindi,english):\n",
    "    print(f' {n:<10} got{i}  hindi and {j} english and total={i+j}')\n"
   ]
  }
 ],
 "metadata": {
  "kernelspec": {
   "display_name": "base",
   "language": "python",
   "name": "python3"
  },
  "language_info": {
   "codemirror_mode": {
    "name": "ipython",
    "version": 3
   },
   "file_extension": ".py",
   "mimetype": "text/x-python",
   "name": "python",
   "nbconvert_exporter": "python",
   "pygments_lexer": "ipython3",
   "version": "3.9.12"
  },
  "orig_nbformat": 4
 },
 "nbformat": 4,
 "nbformat_minor": 2
}
