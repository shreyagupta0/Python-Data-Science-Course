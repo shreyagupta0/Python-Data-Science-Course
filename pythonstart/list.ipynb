{
 "cells": [
  {
   "cell_type": "code",
   "execution_count": 2,
   "metadata": {},
   "outputs": [
    {
     "name": "stdout",
     "output_type": "stream",
     "text": [
      "['chrome', 'firefox', 'safari', 'opera', 'edgeie', 'sony', 'netflix', 'pubg', 'facebook', 'mtv']\n"
     ]
    }
   ],
   "source": [
    "\n",
    "apps= ['chrome' , 'firefox' , 'safari' , 'opera' , 'edge'  'ie' , 'sony' , 'netflix' , 'pubg' , 'facebook' , 'mtv']\n",
    "print(apps)"
   ]
  },
  {
   "cell_type": "code",
   "execution_count": 3,
   "metadata": {},
   "outputs": [
    {
     "name": "stdout",
     "output_type": "stream",
     "text": [
      "10\n"
     ]
    }
   ],
   "source": [
    "print(len(apps))"
   ]
  },
  {
   "cell_type": "code",
   "execution_count": 5,
   "metadata": {},
   "outputs": [
    {
     "name": "stdout",
     "output_type": "stream",
     "text": [
      "['chrome', 'firefox', 'safari', 'opera', 'edgeie', 'sony', 'netflix', 'pubg', 'facebook', 'mtv', 'instagram', 'instagram']\n"
     ]
    }
   ],
   "source": [
    "apps.append('instagram')\n",
    "print(apps)"
   ]
  },
  {
   "cell_type": "code",
   "execution_count": 7,
   "metadata": {},
   "outputs": [
    {
     "name": "stdout",
     "output_type": "stream",
     "text": [
      "['whatsapp', 'chrome', 'firefox', 'safari', 'opera', 'edgeie', 'sony', 'netflix', 'pubg', 'facebook', 'mtv', 'instagram', 'instagram']\n"
     ]
    }
   ],
   "source": [
    "apps.insert(0 ,'whatsapp')\n",
    "print(apps)"
   ]
  },
  {
   "cell_type": "code",
   "execution_count": 8,
   "metadata": {},
   "outputs": [
    {
     "name": "stdout",
     "output_type": "stream",
     "text": [
      "['whatsapp', 'chrome', 'firefox', 'safari', 'opera', 'edgeie', 'sony', 'netflix', 'pubg', 'facebook', 'mtv', 'instagram', 'instagram', 'google']\n"
     ]
    }
   ],
   "source": [
    "apps.append('google')\n",
    "print(apps)"
   ]
  },
  {
   "cell_type": "code",
   "execution_count": 9,
   "metadata": {},
   "outputs": [
    {
     "name": "stdout",
     "output_type": "stream",
     "text": [
      "['google', 'instagram', 'instagram', 'mtv', 'facebook', 'pubg', 'netflix', 'sony', 'edgeie', 'opera', 'safari', 'firefox', 'chrome', 'whatsapp']\n"
     ]
    }
   ],
   "source": [
    "apps.reverse()\n",
    "print(apps)"
   ]
  },
  {
   "cell_type": "code",
   "execution_count": 11,
   "metadata": {},
   "outputs": [
    {
     "name": "stdout",
     "output_type": "stream",
     "text": [
      "['instagram', 'instagram', 'mtv', 'facebook', 'pubg', 'netflix', 'sony', 'edgeie', 'opera', 'safari', 'firefox', 'chrome', 'whatsapp']\n"
     ]
    }
   ],
   "source": [
    "apps.pop(0) #to delete an item from a list\n",
    "print(apps)"
   ]
  },
  {
   "cell_type": "code",
   "execution_count": 13,
   "metadata": {},
   "outputs": [
    {
     "name": "stdout",
     "output_type": "stream",
     "text": [
      "['instagram', 'instagram', 'facebook', 'pubg', 'netflix', 'sony', 'edgeie', 'opera', 'safari', 'firefox', 'chrome', 'whatsapp']\n"
     ]
    }
   ],
   "source": [
    "apps.remove('mtv')\n",
    "print(apps)"
   ]
  },
  {
   "cell_type": "code",
   "execution_count": 14,
   "metadata": {},
   "outputs": [
    {
     "name": "stdout",
     "output_type": "stream",
     "text": [
      "['instagram', 'instagram', 'josh', 'facebook', 'pubg', 'netflix', 'sony', 'edgeie', 'opera', 'safari', 'firefox', 'chrome', 'whatsapp']\n"
     ]
    }
   ],
   "source": [
    "apps.insert(2,'josh')\n",
    "print(apps)"
   ]
  },
  {
   "cell_type": "code",
   "execution_count": 15,
   "metadata": {},
   "outputs": [
    {
     "name": "stdout",
     "output_type": "stream",
     "text": [
      "['instagram', 'instagram', 'josh', 'facebook', 'pubg', 'netflix', 'sony', 'edgeie', 'opera', 'safari', 'firefox', 'chrome', 'whatsapp', 'moj']\n"
     ]
    }
   ],
   "source": [
    "apps.append('moj')\n",
    "print(apps)"
   ]
  },
  {
   "cell_type": "code",
   "execution_count": 16,
   "metadata": {},
   "outputs": [
    {
     "name": "stdout",
     "output_type": "stream",
     "text": [
      "14\n"
     ]
    }
   ],
   "source": [
    "print(len(apps))"
   ]
  },
  {
   "cell_type": "code",
   "execution_count": 20,
   "metadata": {},
   "outputs": [
    {
     "name": "stdout",
     "output_type": "stream",
     "text": [
      "['instagram', 'instagram', 'josh', 'facebook', 'pubg', 'netflix', 'sony', 'edgeie', 'opera', 'safari', 'firefox', 'chrome', 'whatsapp', 'moj', 'songs', 'songs', 'songs', 'songs']\n"
     ]
    }
   ],
   "source": [
    "apps.append('songs')\n",
    "print(apps)\n"
   ]
  },
  {
   "cell_type": "code",
   "execution_count": 21,
   "metadata": {},
   "outputs": [
    {
     "name": "stdout",
     "output_type": "stream",
     "text": [
      "['chrome', 'edgeie', 'facebook', 'firefox', 'instagram', 'instagram', 'josh', 'moj', 'netflix', 'opera', 'pubg', 'safari', 'songs', 'songs', 'songs', 'songs', 'sony', 'whatsapp']\n"
     ]
    }
   ],
   "source": [
    "apps.sort()\n",
    "print(apps)"
   ]
  },
  {
   "cell_type": "code",
   "execution_count": 22,
   "metadata": {},
   "outputs": [
    {
     "name": "stdout",
     "output_type": "stream",
     "text": [
      "4\n"
     ]
    }
   ],
   "source": [
    "x = apps.count('songs')\n",
    "print(x)"
   ]
  },
  {
   "cell_type": "code",
   "execution_count": 23,
   "metadata": {},
   "outputs": [
    {
     "name": "stdout",
     "output_type": "stream",
     "text": [
      "2\n"
     ]
    }
   ],
   "source": [
    "x = apps.count('instagram')\n",
    "print(x)"
   ]
  },
  {
   "cell_type": "code",
   "execution_count": 24,
   "metadata": {},
   "outputs": [
    {
     "name": "stdout",
     "output_type": "stream",
     "text": [
      "['chrome', 'edgeie', 'facebook', 'firefox', 'instagram', 'instagram', 'josh', 'moj', 'netflix', 'opera', 'pubg', 'safari', 'songs', 'songs', 'songs', 'songs', 'sony', 'whatsapp']\n"
     ]
    }
   ],
   "source": [
    "apps.copy()\n",
    "print(apps)"
   ]
  },
  {
   "cell_type": "code",
   "execution_count": 25,
   "metadata": {},
   "outputs": [
    {
     "name": "stdout",
     "output_type": "stream",
     "text": [
      "['chrome', 'edgeie', 'facebook', 'firefox', 'instagram', 'instagram', 'josh', 'moj', 'netflix', 'opera', 'pubg', 'safari', 'songs', 'songs', 'songs', 'songs', 'sony', 'whatsapp', 'abc', 'def', 'wer', 'vgy']\n"
     ]
    }
   ],
   "source": [
    "apps2 = [ 'abc' , 'def' , 'wer' , 'vgy']\n",
    "apps.extend(apps2)\n",
    "print(apps)"
   ]
  },
  {
   "cell_type": "code",
   "execution_count": 30,
   "metadata": {},
   "outputs": [
    {
     "name": "stdout",
     "output_type": "stream",
     "text": [
      "['abc', 'def', 'wer', 'vgy', 'chrome', 'edgeie', 'facebook', 'firefox', 'instagram', 'instagram', 'josh', 'moj', 'netflix', 'opera', 'pubg', 'safari', 'songs', 'songs', 'songs', 'songs', 'sony', 'whatsapp', 'abc', 'def', 'wer', 'vgy', 'chrome', 'edgeie', 'facebook', 'firefox', 'instagram', 'instagram', 'josh', 'moj', 'netflix', 'opera', 'pubg', 'safari', 'songs', 'songs', 'songs', 'songs', 'sony', 'whatsapp', 'abc', 'def', 'wer', 'vgy', 'chrome', 'edgeie', 'facebook', 'firefox', 'instagram', 'instagram', 'josh', 'moj', 'netflix', 'opera', 'pubg', 'safari', 'songs', 'songs', 'songs', 'songs', 'sony', 'whatsapp', 'abc', 'def', 'wer', 'vgy', 'chrome', 'edgeie', 'facebook', 'firefox', 'instagram', 'instagram', 'josh', 'moj', 'netflix', 'opera', 'pubg', 'safari', 'songs', 'songs', 'songs', 'songs', 'sony', 'whatsapp', 'abc', 'def', 'wer', 'vgy', 'chrome', 'edgeie', 'facebook', 'firefox', 'instagram', 'instagram', 'josh', 'moj', 'netflix', 'opera', 'pubg', 'safari', 'songs', 'songs', 'songs', 'songs', 'sony', 'whatsapp', 'abc', 'def', 'wer', 'vgy']\n"
     ]
    }
   ],
   "source": [
    "apps2.extend(apps)\n",
    "print(apps2)"
   ]
  },
  {
   "cell_type": "code",
   "execution_count": 31,
   "metadata": {},
   "outputs": [
    {
     "name": "stdout",
     "output_type": "stream",
     "text": [
      "114\n"
     ]
    }
   ],
   "source": [
    "print(len(apps2))"
   ]
  },
  {
   "cell_type": "code",
   "execution_count": 33,
   "metadata": {},
   "outputs": [
    {
     "name": "stdout",
     "output_type": "stream",
     "text": [
      "[]\n"
     ]
    }
   ],
   "source": [
    "apps.clear()\n",
    "print(apps)"
   ]
  },
  {
   "cell_type": "code",
   "execution_count": 35,
   "metadata": {},
   "outputs": [
    {
     "name": "stdout",
     "output_type": "stream",
     "text": [
      "16\n"
     ]
    }
   ],
   "source": [
    "x = apps2.index('songs')\n",
    "print(x)"
   ]
  },
  {
   "cell_type": "code",
   "execution_count": 37,
   "metadata": {},
   "outputs": [
    {
     "data": {
      "text/plain": [
       "6"
      ]
     },
     "execution_count": 37,
     "metadata": {},
     "output_type": "execute_result"
    }
   ],
   "source": [
    "apps2.count('abc')\n"
   ]
  },
  {
   "cell_type": "code",
   "execution_count": 38,
   "metadata": {},
   "outputs": [
    {
     "name": "stdout",
     "output_type": "stream",
     "text": [
      "158\n"
     ]
    }
   ],
   "source": [
    "x = [1,2,3,4,5,6,7,89,8,7,6,5,6,9]\n",
    "y = sum(x)\n",
    "print(y)"
   ]
  },
  {
   "cell_type": "code",
   "execution_count": 39,
   "metadata": {},
   "outputs": [
    {
     "name": "stdout",
     "output_type": "stream",
     "text": [
      "89\n",
      "1\n"
     ]
    }
   ],
   "source": [
    "z = max(x)\n",
    "print(z)\n",
    "c = min(x)\n",
    "print(c)"
   ]
  },
  {
   "cell_type": "code",
   "execution_count": 2,
   "metadata": {},
   "outputs": [
    {
     "name": "stdout",
     "output_type": "stream",
     "text": [
      "1 2 3 5 8 13 21 34 55 89 "
     ]
    }
   ],
   "source": [
    "#febo\n",
    "a = 0\n",
    "b = 1\n",
    "\n",
    "for i in range (10):\n",
    "    c = a + b \n",
    "    a = b\n",
    "    b = c\n",
    "\n",
    "    print(c , end = ' ')\n",
    "    "
   ]
  },
  {
   "cell_type": "code",
   "execution_count": 6,
   "metadata": {},
   "outputs": [
    {
     "name": "stdout",
     "output_type": "stream",
     "text": [
      "[0, 1, 1, 2, 3, 5, 8, 13, 21, 34, 55, 89]\n"
     ]
    }
   ],
   "source": [
    "fib = [0,1]\n",
    "for i in range (10):\n",
    "    fib.append(fib[-1]+fib[-2])\n",
    "print(fib)    "
   ]
  },
  {
   "cell_type": "code",
   "execution_count": 7,
   "metadata": {},
   "outputs": [
    {
     "name": "stdout",
     "output_type": "stream",
     "text": [
      "364\n",
      "312\n",
      "1\n",
      "11\n",
      "33.09090909090909\n"
     ]
    }
   ],
   "source": [
    "x = [1,2,3,1,2,4,12,312,12,3,12]\n",
    "print(sum(x))\n",
    "print(max(x))\n",
    "print(min(x))\n",
    "print(len(x))\n",
    "print(sum(x)/len(x))\n"
   ]
  },
  {
   "cell_type": "code",
   "execution_count": 8,
   "metadata": {},
   "outputs": [
    {
     "name": "stdout",
     "output_type": "stream",
     "text": [
      "red\n",
      "green\n",
      "blue\n",
      "yellow\n",
      "white\n"
     ]
    }
   ],
   "source": [
    "colors = ['red','green','blue','yellow','black','white','brown']\n",
    "for color in colors:\n",
    "    if 'e' in color:\n",
    "        print(color)\n"
   ]
  },
  {
   "cell_type": "code",
   "execution_count": 10,
   "metadata": {},
   "outputs": [
    {
     "name": "stdout",
     "output_type": "stream",
     "text": [
      "['red', 'green', 'blue', 'yellow', 'white']\n"
     ]
    }
   ],
   "source": [
    "colors2 = []\n",
    "for color in colors:\n",
    "    if 'e' in color:\n",
    "        colors2.append(color)\n",
    "print(colors2)        "
   ]
  },
  {
   "attachments": {},
   "cell_type": "markdown",
   "metadata": {},
   "source": [
    "list method\n",
    "- append\n",
    "- insert\n",
    "- extend\n",
    "- pop\n",
    "- remove \n",
    "- clear\n",
    "- index\n",
    "- count\n",
    "- sort\n",
    "- reserve \n",
    "- copy"
   ]
  },
  {
   "cell_type": "code",
   "execution_count": 11,
   "metadata": {},
   "outputs": [],
   "source": [
    "x.reverse()"
   ]
  },
  {
   "cell_type": "code",
   "execution_count": 12,
   "metadata": {},
   "outputs": [
    {
     "data": {
      "text/plain": [
       "[12, 3, 12, 312, 12, 4, 2, 1, 3, 2, 1]"
      ]
     },
     "execution_count": 12,
     "metadata": {},
     "output_type": "execute_result"
    }
   ],
   "source": [
    "x"
   ]
  },
  {
   "cell_type": "code",
   "execution_count": 15,
   "metadata": {},
   "outputs": [],
   "source": [
    "x = [1,2,3]\n",
    "y = [1,2,3]\n"
   ]
  },
  {
   "cell_type": "code",
   "execution_count": 16,
   "metadata": {},
   "outputs": [
    {
     "data": {
      "text/plain": [
       "False"
      ]
     },
     "execution_count": 16,
     "metadata": {},
     "output_type": "execute_result"
    }
   ],
   "source": [
    "x is y"
   ]
  },
  {
   "cell_type": "code",
   "execution_count": 17,
   "metadata": {},
   "outputs": [],
   "source": [
    "z = x"
   ]
  },
  {
   "cell_type": "code",
   "execution_count": 18,
   "metadata": {},
   "outputs": [
    {
     "data": {
      "text/plain": [
       "True"
      ]
     },
     "execution_count": 18,
     "metadata": {},
     "output_type": "execute_result"
    }
   ],
   "source": [
    "x is z"
   ]
  },
  {
   "cell_type": "code",
   "execution_count": 19,
   "metadata": {},
   "outputs": [
    {
     "name": "stdout",
     "output_type": "stream",
     "text": [
      "[1, 2, 3, 4]\n",
      "[1, 2, 3, 4]\n"
     ]
    }
   ],
   "source": [
    "z.append(4)\n",
    "print(z)\n",
    "print(x)"
   ]
  },
  {
   "cell_type": "code",
   "execution_count": 20,
   "metadata": {},
   "outputs": [],
   "source": [
    "m = x.copy"
   ]
  },
  {
   "cell_type": "code",
   "execution_count": 21,
   "metadata": {},
   "outputs": [
    {
     "data": {
      "text/plain": [
       "False"
      ]
     },
     "execution_count": 21,
     "metadata": {},
     "output_type": "execute_result"
    }
   ],
   "source": [
    "m is x"
   ]
  }
 ],
 "metadata": {
  "kernelspec": {
   "display_name": "base",
   "language": "python",
   "name": "python3"
  },
  "language_info": {
   "codemirror_mode": {
    "name": "ipython",
    "version": 3
   },
   "file_extension": ".py",
   "mimetype": "text/x-python",
   "name": "python",
   "nbconvert_exporter": "python",
   "pygments_lexer": "ipython3",
   "version": "3.9.12"
  },
  "orig_nbformat": 4
 },
 "nbformat": 4,
 "nbformat_minor": 2
}
