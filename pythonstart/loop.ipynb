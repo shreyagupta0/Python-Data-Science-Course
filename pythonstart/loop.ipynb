{
 "cells": [
  {
   "cell_type": "code",
   "execution_count": 4,
   "metadata": {},
   "outputs": [
    {
     "name": "stdout",
     "output_type": "stream",
     "text": [
      "15\n",
      "25\n",
      "35\n",
      "55\n",
      "30\n",
      "50\n",
      "70\n",
      "110\n",
      "45\n",
      "75\n",
      "105\n",
      "165\n",
      "60\n",
      "100\n",
      "140\n",
      "220\n"
     ]
    }
   ],
   "source": [
    "x = [5 , 10 , 15 , 20]\n",
    "y = [3 , 5 , 7 , 11]\n",
    "for i in x:\n",
    "    for j in y:\n",
    "        print(i*j )"
   ]
  }
 ],
 "metadata": {
  "kernelspec": {
   "display_name": "base",
   "language": "python",
   "name": "python3"
  },
  "language_info": {
   "codemirror_mode": {
    "name": "ipython",
    "version": 3
   },
   "file_extension": ".py",
   "mimetype": "text/x-python",
   "name": "python",
   "nbconvert_exporter": "python",
   "pygments_lexer": "ipython3",
   "version": "3.9.12"
  },
  "orig_nbformat": 4
 },
 "nbformat": 4,
 "nbformat_minor": 2
}
