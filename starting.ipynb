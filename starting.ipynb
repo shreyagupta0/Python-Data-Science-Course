{
 "cells": [
  {
   "cell_type": "code",
   "execution_count": 4,
   "metadata": {},
   "outputs": [
    {
     "name": "stdout",
     "output_type": "stream",
     "text": [
      "odd number =  19\n"
     ]
    }
   ],
   "source": [
    "num = int(input(\"enter the number\"))\n",
    "if num%2==0:\n",
    "    print(\"even number =\", num)\n",
    "else:\n",
    "  print(\"odd number = \", num)"
   ]
  },
  {
   "cell_type": "code",
   "execution_count": 13,
   "metadata": {},
   "outputs": [
    {
     "name": "stdout",
     "output_type": "stream",
     "text": [
      "adult =  99\n"
     ]
    }
   ],
   "source": [
    "age = int(input(\"enter your age\"))\n",
    "if age<13:\n",
    "    print(\"child =\", age)\n",
    "elif age>=13 and age<=20:\n",
    "    print(\"teenager =\" , age)\n",
    "else:\n",
    "    print(\"adult = \",age)"
   ]
  },
  {
   "cell_type": "code",
   "execution_count": 24,
   "metadata": {},
   "outputs": [],
   "source": [
    "d = 0\n",
    "w = 0\n",
    "dai = 'daimond'\n",
    "c = 'club'\n",
    "h = 'heart'\n",
    "shape = (input(\"enter your shape\"))\n",
    "num = int(input(\"enter your name\"))\n",
    "\n",
    "\n"
   ]
  },
  {
   "cell_type": "code",
   "execution_count": 32,
   "metadata": {},
   "outputs": [
    {
     "name": "stdout",
     "output_type": "stream",
     "text": [
      "9\n"
     ]
    }
   ],
   "source": [
    "e = 4\n",
    "f = 5\n",
    "print(e+f)"
   ]
  },
  {
   "cell_type": "code",
   "execution_count": 10,
   "metadata": {},
   "outputs": [
    {
     "name": "stdout",
     "output_type": "stream",
     "text": [
      "my name is =  Suryansh\n",
      "my rollno is =  1\n",
      "I study in classs =  11\n",
      "I am  16 old\n"
     ]
    }
   ],
   "source": [
    "Name = input(\"enter your name\")\n",
    "rollno = int(input(\"enter your rollno\"))\n",
    "classs = input(\"enter your class\")\n",
    "age = int(input(\"enter your age\"))\n",
    "print (\"my name is = \" , Name)\n",
    "print (\"my rollno is = \", rollno)\n",
    "print (\"I study in classs = \" , classs )\n",
    "print (\"I am \" , age , \"old\")"
   ]
  },
  {
   "cell_type": "code",
   "execution_count": 3,
   "metadata": {},
   "outputs": [
    {
     "name": "stdout",
     "output_type": "stream",
     "text": [
      "shreya\n"
     ]
    }
   ],
   "source": [
    "print(\"shreya\")"
   ]
  },
  {
   "cell_type": "code",
   "execution_count": 14,
   "metadata": {},
   "outputs": [
    {
     "name": "stdout",
     "output_type": "stream",
     "text": [
      " num 1 = 4567\n",
      " num 2 =  765\n",
      "the result of addition is =  5332\n",
      "the rusult of subtraction is =  3802\n",
      "the rusult of multiplication is = 3493755\n",
      "the result of division is = 5.969934640522876\n"
     ]
    }
   ],
   "source": [
    "num1 = int(input(\"enter the first digit\"))\n",
    "num2 = int(input(\"enter the second digit\"))\n",
    "add = num1 + num2\n",
    "sub = num1 - num2\n",
    "multiply = num1*num2\n",
    "divide = num1/num2\n",
    "print( \" num 1 =\" , num1)\n",
    "print( \" num 2 = \" , num2)\n",
    "print (\"the result of addition is = \" ,add)\n",
    "print (\"the rusult of subtraction is = \" , sub)\n",
    "print (\"the rusult of multiplication is =\" , multiply)\n",
    "print (\"the result of division is =\" , divide)\n"
   ]
  },
  {
   "cell_type": "code",
   "execution_count": 4,
   "metadata": {},
   "outputs": [
    {
     "name": "stdout",
     "output_type": "stream",
     "text": [
      "3.0\n",
      "4.0\n",
      "5.0\n",
      "6.0\n",
      "heron's formula =  6.0\n"
     ]
    }
   ],
   "source": [
    "a = float(input(\"enter your side\"))\n",
    "b = float(input(\"enter your second side\"))\n",
    "c = float(input(\"enter your third side\"))\n",
    "\n",
    "s = (a+b+c)/2\n",
    "area = (s*(s-a)*(s-b)*(s-c))**0.5\n",
    "print(a)\n",
    "print(b)\n",
    "print(c)\n",
    "print(s)\n",
    "print(\"heron's formula = \" , area)\n",
    "\n"
   ]
  },
  {
   "cell_type": "code",
   "execution_count": 18,
   "metadata": {},
   "outputs": [
    {
     "data": {
      "text/plain": [
       "2.0"
      ]
     },
     "execution_count": 18,
     "metadata": {},
     "output_type": "execute_result"
    }
   ],
   "source": [
    "4**0.5"
   ]
  },
  {
   "cell_type": "code",
   "execution_count": 19,
   "metadata": {},
   "outputs": [
    {
     "data": {
      "text/plain": [
       "16"
      ]
     },
     "execution_count": 19,
     "metadata": {},
     "output_type": "execute_result"
    }
   ],
   "source": [
    "4*4"
   ]
  },
  {
   "cell_type": "code",
   "execution_count": 12,
   "metadata": {},
   "outputs": [
    {
     "name": "stdout",
     "output_type": "stream",
     "text": [
      "greater value =  88\n",
      "first number= 6\n",
      "second number = 88\n"
     ]
    }
   ],
   "source": [
    "a = int(input(\"enter your first value\"))\n",
    "b = int(input(\"enter your second value\"))\n",
    "if   a  > b:\n",
    "    print( \"greater value = \" ,a)\n",
    "else:\n",
    "    print( \"greater value = \" , b)\n",
    "print( \"first number=\",a)\n",
    "print(\"second number =\", b)  \n",
    "\n"
   ]
  },
  {
   "cell_type": "code",
   "execution_count": 34,
   "metadata": {},
   "outputs": [
    {
     "name": "stdout",
     "output_type": "stream",
     "text": [
      "num is odd 13\n"
     ]
    }
   ],
   "source": [
    "a = int(input(\"enter your first value\"))\n",
    "#b = int(input(\" enter your second value\"))\n",
    "if a%2==0:\n",
    "    print(\"num is even\", a)\n",
    "else:\n",
    "    print(\"num is odd\", a)"
   ]
  },
  {
   "cell_type": "code",
   "execution_count": 36,
   "metadata": {},
   "outputs": [
    {
     "name": "stdout",
     "output_type": "stream",
     "text": [
      "6\n",
      "4\n",
      "6\n"
     ]
    }
   ],
   "source": [
    "a = 4\n",
    "b = 6\n",
    "v = a\n",
    "a = b \n",
    "b = v\n",
    "v=a\n",
    "print(a)\n",
    "print(b)\n",
    "print(v)\n"
   ]
  },
  {
   "cell_type": "code",
   "execution_count": 17,
   "metadata": {},
   "outputs": [
    {
     "name": "stdout",
     "output_type": "stream",
     "text": [
      "greater number =  123\n",
      "first number = 123\n",
      "second number =  43\n"
     ]
    }
   ],
   "source": [
    "a = int(input(\"enter your first value\"))\n",
    "b = int(input(\"enter your second value\"))\n",
    "if a > b:\n",
    "    print ( \"greater number = \" , a)\n",
    "elif b > a:\n",
    "    print(b)\n",
    "else:\n",
    "    print(\"given numbers are equal \")    \n",
    "print(\"first number =\" , a)\n",
    "print(\"second number = \" ,b)\n"
   ]
  },
  {
   "cell_type": "code",
   "execution_count": 31,
   "metadata": {},
   "outputs": [
    {
     "name": "stdout",
     "output_type": "stream",
     "text": [
      "GRADE O \n",
      "marks = 99\n"
     ]
    }
   ],
   "source": [
    "marks = int(input(\"enter your marks\"))\n",
    "if marks > 75:\n",
    "    print (\"GRADE O \")\n",
    "elif marks > 60:\n",
    "    print ( \"GRADE A \") \n",
    "elif marks > 50 :\n",
    "    print (\"GRADE B \")\n",
    "elif marks > 40:\n",
    "    print (\"GRADE C \")\n",
    "else:\n",
    "    print (\"GRADE D \")  \n",
    "print(\"marks =\" ,marks)           \n"
   ]
  },
  {
   "cell_type": "code",
   "execution_count": null,
   "metadata": {},
   "outputs": [],
   "source": []
  }
 ],
 "metadata": {
  "kernelspec": {
   "display_name": "base",
   "language": "python",
   "name": "python3"
  },
  "language_info": {
   "codemirror_mode": {
    "name": "ipython",
    "version": 3
   },
   "file_extension": ".py",
   "mimetype": "text/x-python",
   "name": "python",
   "nbconvert_exporter": "python",
   "pygments_lexer": "ipython3",
   "version": "3.9.12 (main, Apr  4 2022, 05:22:27) [MSC v.1916 64 bit (AMD64)]"
  },
  "orig_nbformat": 4,
  "vscode": {
   "interpreter": {
    "hash": "8c46ac5aaab4d3c9f2f9be91c3b9b95f2b8ede1f4aae554ca1e34eefcba1468b"
   }
  }
 },
 "nbformat": 4,
 "nbformat_minor": 2
}
