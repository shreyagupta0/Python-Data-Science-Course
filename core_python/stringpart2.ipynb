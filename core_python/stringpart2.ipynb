{
 "cells": [
  {
   "cell_type": "code",
   "execution_count": null,
   "metadata": {},
   "outputs": [],
   "source": [
    "#count\n",
    "#strip\n",
    "#split\n",
    "#join"
   ]
  },
  {
   "cell_type": "code",
   "execution_count": 1,
   "metadata": {},
   "outputs": [
    {
     "name": "stdout",
     "output_type": "stream",
     "text": [
      "3\n"
     ]
    }
   ],
   "source": [
    "msg = \" La La Land \"\n",
    "print (msg.count('La'))"
   ]
  },
  {
   "cell_type": "code",
   "execution_count": 4,
   "metadata": {},
   "outputs": [
    {
     "name": "stdout",
     "output_type": "stream",
     "text": [
      "p occurred 9 times\n"
     ]
    }
   ],
   "source": [
    "msg2= \" peter piper picked a peck of pickled peppers \"\n",
    "cp = msg2.count('p')\n",
    "print (f\"p occurred {cp} times\")"
   ]
  },
  {
   "cell_type": "code",
   "execution_count": 5,
   "metadata": {},
   "outputs": [
    {
     "name": "stdout",
     "output_type": "stream",
     "text": [
      "a\n",
      "b\n",
      "c\n",
      "d\n",
      "e\n",
      "f\n",
      "g\n",
      "h\n",
      "i\n",
      "j\n",
      "k\n",
      "l\n",
      "m\n",
      "n\n",
      "o\n",
      "p\n",
      "q\n",
      "r\n",
      "s\n",
      "t\n",
      "u\n",
      "v\n",
      "w\n",
      "x\n",
      "y\n",
      "z\n"
     ]
    }
   ],
   "source": [
    "from string import ascii_lowercase\n",
    "for letter in ascii_lowercase:\n",
    "    print(letter)"
   ]
  },
  {
   "cell_type": "code",
   "execution_count": 8,
   "metadata": {},
   "outputs": [
    {
     "name": "stdout",
     "output_type": "stream",
     "text": [
      "a 1\n",
      "b 0\n",
      "c 3\n",
      "d 2\n",
      "e 8\n",
      "f 1\n",
      "g 0\n",
      "h 0\n",
      "i 3\n",
      "j 0\n",
      "k 3\n",
      "l 0\n",
      "m 0\n",
      "n 0\n",
      "o 1\n",
      "p 9\n",
      "q 0\n",
      "r 3\n",
      "s 1\n",
      "t 1\n",
      "u 0\n",
      "v 0\n",
      "w 0\n",
      "x 0\n",
      "y 0\n",
      "z 0\n"
     ]
    }
   ],
   "source": [
    "msg3 =\"peter piper picked a peck of picked peppers\"\n",
    "from string import ascii_lowercase\n",
    "for letter in ascii_lowercase:\n",
    "    print (letter , msg3.count(letter))\n",
    " "
   ]
  },
  {
   "cell_type": "code",
   "execution_count": 11,
   "metadata": {},
   "outputs": [
    {
     "name": "stdout",
     "output_type": "stream",
     "text": [
      "a occured 1times\n",
      "c occured 3times\n",
      "d occured 2times\n",
      "e occured 8times\n",
      "f occured 1times\n",
      "i occured 3times\n",
      "k occured 3times\n",
      "l occured 1times\n",
      "o occured 1times\n",
      "p occured 9times\n",
      "r occured 3times\n",
      "s occured 1times\n",
      "t occured 1times\n"
     ]
    }
   ],
   "source": [
    "for i in ascii_lowercase:\n",
    "    c = msg2.count(i)\n",
    "    if c> 0:\n",
    "        print(f'{i} occured {c}times')"
   ]
  },
  {
   "cell_type": "code",
   "execution_count": 12,
   "metadata": {},
   "outputs": [
    {
     "name": "stdout",
     "output_type": "stream",
     "text": [
      "word=' ola amigos   ' & length = 14\n"
     ]
    }
   ],
   "source": [
    "word = \" ola amigos   \"\n",
    "print(f'{word=} & length = {len(word)}')"
   ]
  },
  {
   "cell_type": "code",
   "execution_count": 13,
   "metadata": {},
   "outputs": [
    {
     "name": "stdout",
     "output_type": "stream",
     "text": [
      "word='ola amigos' & length = 10\n"
     ]
    }
   ],
   "source": [
    "word = word.strip()\n",
    "print(f'{word=} & length = {len(word)}')"
   ]
  },
  {
   "cell_type": "code",
   "execution_count": 14,
   "metadata": {},
   "outputs": [
    {
     "name": "stdout",
     "output_type": "stream",
     "text": [
      "   raju    10\n",
      "raju 4\n"
     ]
    }
   ],
   "source": [
    "a = \"   raju   \"\n",
    "print (a,len(a))\n",
    "a= a.strip()\n",
    "print(a,len(a))"
   ]
  },
  {
   "cell_type": "code",
   "execution_count": 9,
   "metadata": {},
   "outputs": [
    {
     "name": "stdout",
     "output_type": "stream",
     "text": [
      "        shreya 14\n",
      "shreya 6\n",
      "shreya 6\n",
      "shreya 14\n"
     ]
    }
   ],
   "source": [
    "name = input(\"enter the name\")\n",
    "print(name, len(name))\n",
    "print(name.strip(),len(name.strip()))\n",
    "print(name.strip(),len(name.lstrip()))\n",
    "print(name.strip(),len(name.rstrip()))"
   ]
  },
  {
   "cell_type": "code",
   "execution_count": 18,
   "metadata": {},
   "outputs": [
    {
     "name": "stdout",
     "output_type": "stream",
     "text": [
      "alex\n",
      "john\n",
      "mary\n",
      "sam\n",
      "tom\n"
     ]
    }
   ],
   "source": [
    "dirtydata= [ 'alex' ,   'john' ,  'mary' ,  'sam' ,'tom  ']\n",
    "for name in dirtydata:\n",
    "    print(name.strip())"
   ]
  },
  {
   "cell_type": "code",
   "execution_count": 24,
   "metadata": {},
   "outputs": [
    {
     "name": "stdout",
     "output_type": "stream",
     "text": [
      "['there', 'is', 'a', 'place', 'with', 'a', 'very', 'large', 'name']\n"
     ]
    }
   ],
   "source": [
    "msg = \"there is a place with a very large name\"\n",
    "words = msg.split()\n",
    "print(words)\n"
   ]
  },
  {
   "cell_type": "code",
   "execution_count": 11,
   "metadata": {},
   "outputs": [
    {
     "data": {
      "text/plain": [
       "[' alpha', 'beta', 'gama', 'delta', 'epsilon']"
      ]
     },
     "execution_count": 11,
     "metadata": {},
     "output_type": "execute_result"
    }
   ],
   "source": [
    "msg2 = \" alpha,beta,gama,delta,epsilon\"\n",
    "msg2.split(',')"
   ]
  },
  {
   "cell_type": "code",
   "execution_count": 16,
   "metadata": {},
   "outputs": [
    {
     "data": {
      "text/plain": [
       "['this', 'is', 'aparta,this', 'is', 'goa,this', 'is', 'delhi']"
      ]
     },
     "execution_count": 16,
     "metadata": {},
     "output_type": "execute_result"
    }
   ],
   "source": [
    "msg3 = \"this is aparta,this is goa,this is delhi\"\n",
    "msg3.split(' ')\n",
    "msg3.split(',')\n",
    "msg3.split('t')"
   ]
  },
  {
   "cell_type": "code",
   "execution_count": 32,
   "metadata": {},
   "outputs": [
    {
     "data": {
      "text/plain": [
       "'hey_girl_shreya_here_this_side'"
      ]
     },
     "execution_count": 32,
     "metadata": {},
     "output_type": "execute_result"
    }
   ],
   "source": [
    "#''.join is used to join a given data in form a string\n",
    "word2= ['hey', 'girl','shreya','here','this','side']\n",
    "' '.join(word2)\n",
    "'_'.join(word2)"
   ]
  }
 ],
 "metadata": {
  "kernelspec": {
   "display_name": "base",
   "language": "python",
   "name": "python3"
  },
  "language_info": {
   "codemirror_mode": {
    "name": "ipython",
    "version": 3
   },
   "file_extension": ".py",
   "mimetype": "text/x-python",
   "name": "python",
   "nbconvert_exporter": "python",
   "pygments_lexer": "ipython3",
   "version": "3.9.12 (main, Apr  4 2022, 05:22:27) [MSC v.1916 64 bit (AMD64)]"
  },
  "orig_nbformat": 4,
  "vscode": {
   "interpreter": {
    "hash": "8c46ac5aaab4d3c9f2f9be91c3b9b95f2b8ede1f4aae554ca1e34eefcba1468b"
   }
  }
 },
 "nbformat": 4,
 "nbformat_minor": 2
}
