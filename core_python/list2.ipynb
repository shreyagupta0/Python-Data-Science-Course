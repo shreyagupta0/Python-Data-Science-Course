{
 "cells": [
  {
   "cell_type": "code",
   "execution_count": 2,
   "metadata": {},
   "outputs": [],
   "source": [
    "from random import randint"
   ]
  },
  {
   "cell_type": "code",
   "execution_count": 14,
   "metadata": {},
   "outputs": [
    {
     "name": "stdout",
     "output_type": "stream",
     "text": [
      "[70, 94, 83, 11, 23, 77, 86, 88, 23, 4, 93, 77, 39, 28, 68, 10, 33, 73, 77, 27, 49, 100, 66, 19, 42]\n"
     ]
    }
   ],
   "source": [
    "x =  []\n",
    "for i in range(25):\n",
    "    x.append(randint(1,100))\n",
    "print(x)"
   ]
  },
  {
   "cell_type": "code",
   "execution_count": 10,
   "metadata": {},
   "outputs": [
    {
     "name": "stdout",
     "output_type": "stream",
     "text": [
      "[13, 27, 48, 30, 39, 32, 56, 79, 53, 85, 51, 53, 52, 65, 93, 46, 24, 83, 46, 59, 37, 90, 98, 14]\n"
     ]
    }
   ],
   "source": [
    "val = 81\n",
    "if val in x:\n",
    "    x.remove(val)\n",
    "print(x)    "
   ]
  },
  {
   "cell_type": "code",
   "execution_count": 20,
   "metadata": {},
   "outputs": [
    {
     "name": "stdout",
     "output_type": "stream",
     "text": [
      "[70, 94, 83, 11, 23, 86, 88, 23, 4, 93, 39, 28, 68, 10, 33, 73, 77, 27, 49, 100, 66, 19]\n"
     ]
    }
   ],
   "source": [
    "val = [13,27,48]\n",
    "if val in x:\n",
    "    x.remove(val)\n",
    "print(x)    "
   ]
  },
  {
   "cell_type": "code",
   "execution_count": 15,
   "metadata": {},
   "outputs": [
    {
     "data": {
      "text/plain": [
       "5"
      ]
     },
     "execution_count": 15,
     "metadata": {},
     "output_type": "execute_result"
    }
   ],
   "source": [
    "x.index(77)"
   ]
  },
  {
   "cell_type": "code",
   "execution_count": 16,
   "metadata": {},
   "outputs": [
    {
     "data": {
      "text/plain": [
       "77"
      ]
     },
     "execution_count": 16,
     "metadata": {},
     "output_type": "execute_result"
    }
   ],
   "source": [
    "x.pop(11) #it remove value from index number"
   ]
  },
  {
   "cell_type": "code",
   "execution_count": 17,
   "metadata": {},
   "outputs": [
    {
     "data": {
      "text/plain": [
       "77"
      ]
     },
     "execution_count": 17,
     "metadata": {},
     "output_type": "execute_result"
    }
   ],
   "source": [
    "x.pop(5)"
   ]
  },
  {
   "cell_type": "code",
   "execution_count": 18,
   "metadata": {},
   "outputs": [
    {
     "data": {
      "text/plain": [
       "42"
      ]
     },
     "execution_count": 18,
     "metadata": {},
     "output_type": "execute_result"
    }
   ],
   "source": [
    "x.pop() #it remove last value"
   ]
  },
  {
   "cell_type": "code",
   "execution_count": 21,
   "metadata": {},
   "outputs": [
    {
     "name": "stdout",
     "output_type": "stream",
     "text": [
      "[4, 10, 11, 19, 23, 23, 27, 28, 33, 39, 49, 66, 68, 70, 73, 77, 83, 86, 88, 93, 94, 100]\n"
     ]
    }
   ],
   "source": [
    "x.sort()#sort the list in ascending order\n",
    "print(x)"
   ]
  },
  {
   "cell_type": "code",
   "execution_count": 2,
   "metadata": {},
   "outputs": [
    {
     "name": "stdout",
     "output_type": "stream",
     "text": [
      "[98, 66, 65, 45, 34, 32, 32, 23, 12, 12, 11, 9, 7]\n"
     ]
    }
   ],
   "source": [
    "x = [11,66,9,7,98,34,65,32,12,23,45,32,12]\n",
    "x.sort(reverse=True) #sort in descending order\n",
    "print(x)"
   ]
  },
  {
   "cell_type": "code",
   "execution_count": 25,
   "metadata": {},
   "outputs": [
    {
     "data": {
      "text/plain": [
       "1"
      ]
     },
     "execution_count": 25,
     "metadata": {},
     "output_type": "execute_result"
    }
   ],
   "source": [
    "x.count(33)\n"
   ]
  },
  {
   "cell_type": "code",
   "execution_count": 27,
   "metadata": {},
   "outputs": [
    {
     "name": "stdout",
     "output_type": "stream",
     "text": [
      "[1, 2, 3, 4, 6, 7, 8, 15]\n",
      "[1, 2, 3, 4, 6, 7, 8, 15]\n",
      "[1, 2, 3, 4, 5, 6, 7, 8, 10]\n",
      "True\n",
      "False\n",
      "False\n"
     ]
    }
   ],
   "source": [
    "x = [1,2,3,4,5,6,7,8]\n",
    "y = x\n",
    "z = x.copy()#duplicate\n",
    "y.append(15)\n",
    "x.remove(5)\n",
    "z.append(10)\n",
    "print(x)\n",
    "print(y)\n",
    "print(z)\n",
    "print(x is y) #true\n",
    "print(x is z)#false\n",
    "print(y is z)#false\n",
    "\n",
    "\n",
    "\n"
   ]
  },
  {
   "cell_type": "code",
   "execution_count": 30,
   "metadata": {},
   "outputs": [
    {
     "name": "stdout",
     "output_type": "stream",
     "text": [
      "[]\n"
     ]
    }
   ],
   "source": [
    "x.clear() #to clear the list\n",
    "print(x)"
   ]
  },
  {
   "attachments": {},
   "cell_type": "markdown",
   "metadata": {},
   "source": [
    "questions\n",
    "- wap to count all the number greater than 50 in a list of 100 elements"
   ]
  },
  {
   "cell_type": "code",
   "execution_count": 42,
   "metadata": {},
   "outputs": [
    {
     "name": "stdout",
     "output_type": "stream",
     "text": [
      "[57, 147, 135, 145, 128, 113, 73, 102, 109, 136, 111, 54, 67, 109, 84, 2, 77, 75, 119, 98, 37, 5, 58, 150, 103, 12, 5, 122, 92, 40, 101, 93, 38, 114, 57, 86, 46, 66, 137, 23, 75, 50, 88, 95, 120, 125, 95, 45, 79, 23, 58, 94, 4, 2, 34, 39, 111, 50, 3, 20, 125, 56, 7, 143, 57, 31, 148, 147, 95, 105, 48, 150, 94, 82, 69, 19, 1, 141, 149, 11, 109, 39, 7, 145, 50, 6, 6, 49, 10, 86, 106, 72, 36, 80, 118, 32, 15, 129, 74, 145, 7, 27, 58, 115, 139, 27, 123, 124, 116, 110, 59, 31, 117, 132, 72, 82, 125, 12, 100, 43, 118, 73, 32, 150, 100, 84, 36, 24, 99, 102, 75, 53, 42, 58, 83, 84, 6, 56, 72, 114, 62, 50, 146, 106, 16, 132, 144, 50, 73, 24]\n"
     ]
    }
   ],
   "source": [
    "x = []\n",
    "for _ in range(150):\n",
    "    x.append(randint(1,150))\n",
    "print(x)    "
   ]
  },
  {
   "cell_type": "code",
   "execution_count": 43,
   "metadata": {},
   "outputs": [
    {
     "name": "stdout",
     "output_type": "stream",
     "text": [
      "we have 105 numbers greater than 50\n"
     ]
    }
   ],
   "source": [
    "#wap to count all the number greater than 50 in a list of 100 elements\n",
    "c = 0\n",
    "for i in x:\n",
    "    if i >= 50:\n",
    "        c +=1\n",
    "print(f'we have {c} numbers greater than 50')        "
   ]
  },
  {
   "cell_type": "code",
   "execution_count": 46,
   "metadata": {},
   "outputs": [
    {
     "name": "stdout",
     "output_type": "stream",
     "text": [
      "270\n"
     ]
    }
   ],
   "source": [
    "#add all the number that are less than equal to 25 & display the result\n",
    "add=0\n",
    "for i in x:\n",
    "    if i <= 25:\n",
    "        add = add+i\n",
    "print(add)        "
   ]
  },
  {
   "cell_type": "code",
   "execution_count": 45,
   "metadata": {},
   "outputs": [
    {
     "name": "stdout",
     "output_type": "stream",
     "text": [
      "270\n"
     ]
    }
   ],
   "source": [
    "#add all the number that are less than equal to 25 & display the result\n",
    "sub25 = [i for i in x if i <=25]\n",
    "print(sum(sub25))"
   ]
  },
  {
   "cell_type": "code",
   "execution_count": 48,
   "metadata": {},
   "outputs": [
    {
     "data": {
      "text/plain": [
       "25"
      ]
     },
     "execution_count": 48,
     "metadata": {},
     "output_type": "execute_result"
    }
   ],
   "source": [
    "x.sort()\n",
    "#print(x)\n",
    "x.index(27)\n"
   ]
  },
  {
   "attachments": {},
   "cell_type": "markdown",
   "metadata": {},
   "source": [
    "`list comprehension`\n",
    "`ex = [expression for loop condition]`"
   ]
  },
  {
   "cell_type": "code",
   "execution_count": 49,
   "metadata": {},
   "outputs": [
    {
     "name": "stdout",
     "output_type": "stream",
     "text": [
      "[11, 12, 13, 14, 15, 16, 17, 18, 19, 20]\n"
     ]
    }
   ],
   "source": [
    "#uption of list without changing the original list\n",
    "x = [1,2,3,4,5,6,7,8,9,10]\n",
    "y2 = []\n",
    "for i in x:\n",
    "    y2.append(i + 10)\n",
    "print(y2)    \n"
   ]
  },
  {
   "cell_type": "code",
   "execution_count": 51,
   "metadata": {},
   "outputs": [
    {
     "name": "stdout",
     "output_type": "stream",
     "text": [
      "[11, 13, 1, 5, 1]\n"
     ]
    }
   ],
   "source": [
    "y = [ 11,12,13,14,1,5,1,6] #finding odd number and creating new list\n",
    "odd = []\n",
    "for i in y:\n",
    "    if i %2 != 0:\n",
    "        odd.append(i)\n",
    "print(odd)    "
   ]
  },
  {
   "cell_type": "code",
   "execution_count": 52,
   "metadata": {},
   "outputs": [
    {
     "name": "stdout",
     "output_type": "stream",
     "text": [
      "[1, 2, 3, 4, 5, 6, 7, 8, 9, 10]\n",
      "[1, 8, 27, 64, 125, 216, 343, 512, 729, 1000]\n"
     ]
    }
   ],
   "source": [
    "xcubes = [i ** 3 for i in x]\n",
    "print (x)\n",
    "print(xcubes)"
   ]
  },
  {
   "cell_type": "code",
   "execution_count": 53,
   "metadata": {},
   "outputs": [
    {
     "name": "stdout",
     "output_type": "stream",
     "text": [
      "[1, 2, 3, 4, 5, 6, 7, 8, 9, 10]\n",
      "[1, 3, 5, 7, 9]\n"
     ]
    }
   ],
   "source": [
    "yodd = [i for i in x if i %2 !=0]\n",
    "print (x)\n",
    "print(yodd)"
   ]
  },
  {
   "cell_type": "code",
   "execution_count": 58,
   "metadata": {},
   "outputs": [
    {
     "name": "stdout",
     "output_type": "stream",
     "text": [
      "[20, 42, 9, 43, 45, 17, 1, 36, 37, 32, 22, 8, 3, 2, 11, 6, 43, 5, 48, 13, 27, 11, 40, 37, 11, 25, 42, 24, 13, 32, 15, 39, 21, 18, 49, 22, 40, 50, 12, 39, 38, 49, 48, 36, 8, 23, 1, 13, 22, 47]\n",
      "[400, 1764, 1296, 1024, 484, 64, 4, 36, 2304, 1600, 1764, 576, 1024, 324, 484, 1600, 2500, 144, 1444, 2304, 1296, 64, 484]\n"
     ]
    }
   ],
   "source": [
    "# create a list of sqaure from of only even number from an exixting list\n",
    "e =  []\n",
    "for i in range(50):\n",
    "    e.append(randint(1,50))\n",
    "y = []\n",
    "for i in e:\n",
    "    if i%2==0:\n",
    "        y.append(i**2)\n",
    "print(e)\n",
    "print(y)"
   ]
  },
  {
   "cell_type": "code",
   "execution_count": 61,
   "metadata": {},
   "outputs": [
    {
     "name": "stdout",
     "output_type": "stream",
     "text": [
      "[20, 42, 9, 43, 45, 17, 1, 36, 37, 32, 22, 8, 3, 2, 11, 6, 43, 5, 48, 13, 27, 11, 40, 37, 11, 25, 42, 24, 13, 32, 15, 39, 21, 18, 49, 22, 40, 50, 12, 39, 38, 49, 48, 36, 8, 23, 1, 13, 22, 47]\n",
      "[400, 1764, 1296, 1024, 484, 64, 4, 36, 2304, 1600, 1764, 576, 1024, 324, 484, 1600, 2500, 144, 1444, 2304, 1296, 64, 484]\n"
     ]
    }
   ],
   "source": [
    "y =[i**2 for i in e if i %2==0]\n",
    "print(e)\n",
    "print(y)"
   ]
  }
 ],
 "metadata": {
  "kernelspec": {
   "display_name": "base",
   "language": "python",
   "name": "python3"
  },
  "language_info": {
   "codemirror_mode": {
    "name": "ipython",
    "version": 3
   },
   "file_extension": ".py",
   "mimetype": "text/x-python",
   "name": "python",
   "nbconvert_exporter": "python",
   "pygments_lexer": "ipython3",
   "version": "3.9.12"
  },
  "orig_nbformat": 4,
  "vscode": {
   "interpreter": {
    "hash": "8c46ac5aaab4d3c9f2f9be91c3b9b95f2b8ede1f4aae554ca1e34eefcba1468b"
   }
  }
 },
 "nbformat": 4,
 "nbformat_minor": 2
}
