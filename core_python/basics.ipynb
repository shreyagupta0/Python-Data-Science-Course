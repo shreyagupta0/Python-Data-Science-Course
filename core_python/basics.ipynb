{
 "cells": [
  {
   "cell_type": "code",
   "execution_count": 19,
   "metadata": {},
   "outputs": [
    {
     "name": "stdout",
     "output_type": "stream",
     "text": [
      "hello shreya\n"
     ]
    }
   ],
   "source": [
    "print(\"hello shreya\")"
   ]
  },
  {
   "attachments": {},
   "cell_type": "markdown",
   "metadata": {},
   "source": [
    "# Operator\n",
    "1. Arithmetic operators\n",
    "2. Assignment operators\n",
    "3. Comparison operators\n",
    "4. Logical operator\n",
    "5. Identical operators\n",
    "6. Membership operators\n",
    "7. bitwise operators\n"
   ]
  },
  {
   "cell_type": "code",
   "execution_count": 20,
   "metadata": {},
   "outputs": [
    {
     "data": {
      "text/plain": [
       "22222"
      ]
     },
     "execution_count": 20,
     "metadata": {},
     "output_type": "execute_result"
    }
   ],
   "source": [
    "23456-1234"
   ]
  },
  {
   "cell_type": "code",
   "execution_count": 21,
   "metadata": {},
   "outputs": [
    {
     "name": "stdout",
     "output_type": "stream",
     "text": [
      "211\n",
      "91\n",
      "736\n",
      "11.5\n",
      "11\n",
      "3.3333333333333335\n",
      "8\n"
     ]
    }
   ],
   "source": [
    "print(234-23)\n",
    "print(123-32)\n",
    "print(23*32)\n",
    "print(23/2)\n",
    "print(23//2)\n",
    "print(10/3)\n",
    "print(2**3) "
   ]
  },
  {
   "cell_type": "code",
   "execution_count": 8,
   "metadata": {},
   "outputs": [
    {
     "name": "stdout",
     "output_type": "stream",
     "text": [
      "31\n",
      "10 15 6\n"
     ]
    }
   ],
   "source": [
    "x=10\n",
    "y=15\n",
    "z=6\n",
    "print(x+y+z)\n",
    "print(x,y,z)\n"
   ]
  },
  {
   "cell_type": "code",
   "execution_count": 23,
   "metadata": {},
   "outputs": [],
   "source": [
    "x+=10"
   ]
  },
  {
   "cell_type": "code",
   "execution_count": null,
   "metadata": {},
   "outputs": [],
   "source": [
    "print(x>y)\n",
    "print(x<y)\n",
    "print(x>y)\n",
    "print(x<y)\n",
    "print(x>y)\n",
    "print(x<y)\n",
    "print(x>y)\n",
    "print(x<y)\n",
    "print(x>y)\n",
    "print(x<y)\n",
    "print(x>y)\n",
    "\n"
   ]
  },
  {
   "cell_type": "code",
   "execution_count": 2,
   "metadata": {},
   "outputs": [
    {
     "name": "stdout",
     "output_type": "stream",
     "text": [
      "True\n",
      "False\n",
      "False\n"
     ]
    }
   ],
   "source": [
    "# and , or, not\n",
    "# condition1, conditon2 , condition3\n",
    "x= 10\n",
    "y= 3\n",
    "print(x>5 and y<10)\n",
    "print(x>5 and y>10)\n",
    "print(x<5 and y>10)"
   ]
  },
  {
   "cell_type": "code",
   "execution_count": 6,
   "metadata": {},
   "outputs": [
    {
     "data": {
      "text/plain": [
       "False"
      ]
     },
     "execution_count": 6,
     "metadata": {},
     "output_type": "execute_result"
    }
   ],
   "source": [
    "a = ''\n",
    "bool(a) # bools is condition which gives answer in true or false\n",
    "#b = \"hello\"\n",
    "#bool(b)"
   ]
  },
  {
   "attachments": {},
   "cell_type": "markdown",
   "metadata": {},
   "source": [
    "empty string and 0 is false"
   ]
  },
  {
   "cell_type": "code",
   "execution_count": 20,
   "metadata": {},
   "outputs": [
    {
     "data": {
      "text/plain": [
       "True"
      ]
     },
     "execution_count": 20,
     "metadata": {},
     "output_type": "execute_result"
    }
   ],
   "source": [
    "x = [1,2,3]\n",
    "y = x.copy() # copy is you to copy \n",
    "z = x\n",
    "x == y"
   ]
  },
  {
   "cell_type": "code",
   "execution_count": 22,
   "metadata": {},
   "outputs": [
    {
     "name": "stdout",
     "output_type": "stream",
     "text": [
      "True\n",
      "False\n"
     ]
    }
   ],
   "source": [
    "x == y\n",
    "print (x == y) # compare values\n",
    "print (x is y) # compare reference "
   ]
  },
  {
   "cell_type": "code",
   "execution_count": 28,
   "metadata": {},
   "outputs": [
    {
     "name": "stdout",
     "output_type": "stream",
     "text": [
      "True\n",
      "False\n"
     ]
    }
   ],
   "source": [
    "colour =['red','green','blue']\n",
    "print ('red' in colour)\n",
    "print ('pink' in colour) # in operator is use to search an item from a list"
   ]
  },
  {
   "cell_type": "code",
   "execution_count": 27,
   "metadata": {},
   "outputs": [
    {
     "name": "stdout",
     "output_type": "stream",
     "text": [
      "False\n",
      "True\n"
     ]
    }
   ],
   "source": [
    "number =[1,2,3,4,5,6,7,8,9]\n",
    "print( 10 in number)\n",
    "print (2 in number)"
   ]
  },
  {
   "attachments": {},
   "cell_type": "markdown",
   "metadata": {},
   "source": [
    " datatypes in pyhton\n",
    " ---single value---\n",
    " integer,float\n",
    " string (impo)\n",
    " boolean(true or false)\n",
    " Nonetype(None)\n",
    " ---multi value---\n",
    " list (impo)\n",
    " tuple\n",
    " set\n",
    " dictionary(impo)\n",
    " \n"
   ]
  },
  {
   "cell_type": "code",
   "execution_count": 38,
   "metadata": {},
   "outputs": [
    {
     "name": "stdout",
     "output_type": "stream",
     "text": [
      "<class 'int'>\n",
      "<class 'float'>\n",
      "<class 'NoneType'>\n",
      "<class 'list'>\n",
      "<class 'tuple'>\n",
      "<class 'set'>\n",
      "<class 'dict'>\n"
     ]
    }
   ],
   "source": [
    "x = 10\n",
    "print (type (x)) # type gives data type if an object\n",
    "x = 20.2\n",
    "print (type (x))\n",
    "x =  None\n",
    "print (type (x))\n",
    "x =[1,2,3] #list\n",
    "print (type (x))\n",
    "x = ( 1,2,3) #tuple\n",
    "print (type (x))\n",
    "x = {1,2,3} #set\n",
    "print (type (x))\n",
    "x = { 'a':1,'b':2,'c':3} #dic\n",
    "print (type (x))"
   ]
  },
  {
   "cell_type": "code",
   "execution_count": null,
   "metadata": {},
   "outputs": [],
   "source": []
  }
 ],
 "metadata": {
  "kernelspec": {
   "display_name": "base",
   "language": "python",
   "name": "python3"
  },
  "language_info": {
   "codemirror_mode": {
    "name": "ipython",
    "version": 3
   },
   "file_extension": ".py",
   "mimetype": "text/x-python",
   "name": "python",
   "nbconvert_exporter": "python",
   "pygments_lexer": "ipython3",
   "version": "3.9.12 (main, Apr  4 2022, 05:22:27) [MSC v.1916 64 bit (AMD64)]"
  },
  "orig_nbformat": 4,
  "vscode": {
   "interpreter": {
    "hash": "8c46ac5aaab4d3c9f2f9be91c3b9b95f2b8ede1f4aae554ca1e34eefcba1468b"
   }
  }
 },
 "nbformat": 4,
 "nbformat_minor": 2
}
