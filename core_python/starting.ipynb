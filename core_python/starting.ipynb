{
 "cells": [
  {
   "cell_type": "code",
   "execution_count": null,
   "metadata": {},
   "outputs": [],
   "source": []
  },
  {
   "cell_type": "code",
   "execution_count": null,
   "metadata": {},
   "outputs": [],
   "source": []
  },
  {
   "cell_type": "code",
   "execution_count": 4,
   "metadata": {},
   "outputs": [
    {
     "name": "stdout",
     "output_type": "stream",
     "text": [
      "odd number =  19\n"
     ]
    }
   ],
   "source": [
    "num = int(input(\"enter the number\"))\n",
    "if num%2==0:\n",
    "    print(\"even number =\", num)\n",
    "else:\n",
    "  print(\"odd number = \", num)"
   ]
  },
  {
   "cell_type": "code",
   "execution_count": 13,
   "metadata": {},
   "outputs": [
    {
     "name": "stdout",
     "output_type": "stream",
     "text": [
      "adult =  99\n"
     ]
    }
   ],
   "source": [
    "age = int(input(\"enter your age\"))\n",
    "if age<13:\n",
    "    print(\"child =\", age)\n",
    "elif age>=13 and age<=20:\n",
    "    print(\"teenager =\" , age)\n",
    "else:\n",
    "    print(\"adult = \",age)"
   ]
  },
  {
   "cell_type": "code",
   "execution_count": 24,
   "metadata": {},
   "outputs": [],
   "source": [
    "d = 0\n",
    "w = 0\n",
    "dai = 'daimond'\n",
    "c = 'club'\n",
    "h = 'heart'\n",
    "shape = (input(\"enter your shape\"))\n",
    "num = int(input(\"enter your name\"))\n",
    "\n",
    "\n"
   ]
  },
  {
   "cell_type": "code",
   "execution_count": 32,
   "metadata": {},
   "outputs": [
    {
     "name": "stdout",
     "output_type": "stream",
     "text": [
      "9\n"
     ]
    }
   ],
   "source": [
    "e = 4\n",
    "f = 5\n",
    "print(e+f)"
   ]
  },
  {
   "cell_type": "code",
   "execution_count": 10,
   "metadata": {},
   "outputs": [
    {
     "name": "stdout",
     "output_type": "stream",
     "text": [
      "my name is =  Suryansh\n",
      "my rollno is =  1\n",
      "I study in classs =  11\n",
      "I am  16 old\n"
     ]
    }
   ],
   "source": [
    "Name = input(\"enter your name\")\n",
    "rollno = int(input(\"enter your rollno\"))\n",
    "classs = input(\"enter your class\")\n",
    "age = int(input(\"enter your age\"))\n",
    "print (\"my name is = \" , Name)\n",
    "print (\"my rollno is = \", rollno)\n",
    "print (\"I study in classs = \" , classs )\n",
    "print (\"I am \" , age , \"old\")"
   ]
  },
  {
   "cell_type": "code",
   "execution_count": 3,
   "metadata": {},
   "outputs": [
    {
     "name": "stdout",
     "output_type": "stream",
     "text": [
      "shreya\n"
     ]
    }
   ],
   "source": [
    "print(\"shreya\")"
   ]
  },
  {
   "cell_type": "code",
   "execution_count": 14,
   "metadata": {},
   "outputs": [
    {
     "name": "stdout",
     "output_type": "stream",
     "text": [
      " num 1 = 4567\n",
      " num 2 =  765\n",
      "the result of addition is =  5332\n",
      "the rusult of subtraction is =  3802\n",
      "the rusult of multiplication is = 3493755\n",
      "the result of division is = 5.969934640522876\n"
     ]
    }
   ],
   "source": [
    "num1 = int(input(\"enter the first digit\"))\n",
    "num2 = int(input(\"enter the second digit\"))\n",
    "add = num1 + num2\n",
    "sub = num1 - num2\n",
    "multiply = num1*num2\n",
    "divide = num1/num2\n",
    "print( \" num 1 =\" , num1)\n",
    "print( \" num 2 = \" , num2)\n",
    "print (\"the result of addition is = \" ,add)\n",
    "print (\"the rusult of subtraction is = \" , sub)\n",
    "print (\"the rusult of multiplication is =\" , multiply)\n",
    "print (\"the result of division is =\" , divide)\n"
   ]
  },
  {
   "cell_type": "code",
   "execution_count": 4,
   "metadata": {},
   "outputs": [
    {
     "name": "stdout",
     "output_type": "stream",
     "text": [
      "3.0\n",
      "4.0\n",
      "5.0\n",
      "6.0\n",
      "heron's formula =  6.0\n"
     ]
    }
   ],
   "source": [
    "a = float(input(\"enter your side\"))\n",
    "b = float(input(\"enter your second side\"))\n",
    "c = float(input(\"enter your third side\"))\n",
    "\n",
    "s = (a+b+c)/2\n",
    "area = (s*(s-a)*(s-b)*(s-c))**0.5\n",
    "print(a)\n",
    "print(b)\n",
    "print(c)\n",
    "print(s)\n",
    "print(\"heron's formula = \" , area)\n",
    "\n"
   ]
  },
  {
   "cell_type": "code",
   "execution_count": 18,
   "metadata": {},
   "outputs": [
    {
     "data": {
      "text/plain": [
       "2.0"
      ]
     },
     "execution_count": 18,
     "metadata": {},
     "output_type": "execute_result"
    }
   ],
   "source": [
    "4**0.5"
   ]
  },
  {
   "cell_type": "code",
   "execution_count": 19,
   "metadata": {},
   "outputs": [
    {
     "data": {
      "text/plain": [
       "16"
      ]
     },
     "execution_count": 19,
     "metadata": {},
     "output_type": "execute_result"
    }
   ],
   "source": [
    "4*4"
   ]
  },
  {
   "cell_type": "code",
   "execution_count": 12,
   "metadata": {},
   "outputs": [
    {
     "name": "stdout",
     "output_type": "stream",
     "text": [
      "greater value =  88\n",
      "first number= 6\n",
      "second number = 88\n"
     ]
    }
   ],
   "source": [
    "a = int(input(\"enter your first value\"))\n",
    "b = int(input(\"enter your second value\"))\n",
    "if   a  > b:\n",
    "    print( \"greater value = \" ,a)\n",
    "else:\n",
    "    print( \"greater value = \" , b)\n",
    "print( \"first number=\",a)\n",
    "print(\"second number =\", b)  \n",
    "\n"
   ]
  },
  {
   "cell_type": "code",
   "execution_count": 34,
   "metadata": {},
   "outputs": [
    {
     "name": "stdout",
     "output_type": "stream",
     "text": [
      "num is odd 13\n"
     ]
    }
   ],
   "source": [
    "a = int(input(\"enter your first value\"))\n",
    "#b = int(input(\" enter your second value\"))\n",
    "if a%2==0:\n",
    "    print(\"num is even\", a)\n",
    "else:\n",
    "    print(\"num is odd\", a)"
   ]
  },
  {
   "cell_type": "code",
   "execution_count": 36,
   "metadata": {},
   "outputs": [
    {
     "name": "stdout",
     "output_type": "stream",
     "text": [
      "6\n",
      "4\n",
      "6\n"
     ]
    }
   ],
   "source": [
    "a = 4\n",
    "b = 6\n",
    "v = a\n",
    "a = b \n",
    "b = v\n",
    "v=a\n",
    "print(a)\n",
    "print(b)\n",
    "print(v)\n"
   ]
  },
  {
   "cell_type": "code",
   "execution_count": 17,
   "metadata": {},
   "outputs": [
    {
     "name": "stdout",
     "output_type": "stream",
     "text": [
      "greater number =  123\n",
      "first number = 123\n",
      "second number =  43\n"
     ]
    }
   ],
   "source": [
    "a = int(input(\"enter your first value\"))\n",
    "b = int(input(\"enter your second value\"))\n",
    "if a > b:\n",
    "    print ( \"greater number = \" , a)\n",
    "elif b > a:\n",
    "    print(b)\n",
    "else:\n",
    "    print(\"given numbers are equal \")    \n",
    "print(\"first number =\" , a)\n",
    "print(\"second number = \" ,b)\n"
   ]
  },
  {
   "cell_type": "code",
   "execution_count": 31,
   "metadata": {},
   "outputs": [
    {
     "name": "stdout",
     "output_type": "stream",
     "text": [
      "GRADE O \n",
      "marks = 99\n"
     ]
    }
   ],
   "source": [
    "marks = int(input(\"enter your marks\"))\n",
    "if marks > 75:\n",
    "    print (\"GRADE O \")\n",
    "elif marks > 60:\n",
    "    print ( \"GRADE A \") \n",
    "elif marks > 50 :\n",
    "    print (\"GRADE B \")\n",
    "elif marks > 40:\n",
    "    print (\"GRADE C \")\n",
    "else:\n",
    "    print (\"GRADE D \")  \n",
    "print(\"marks =\" ,marks)           \n"
   ]
  },
  {
   "cell_type": "code",
   "execution_count": 4,
   "metadata": {},
   "outputs": [
    {
     "ename": "SyntaxError",
     "evalue": "invalid syntax (471071202.py, line 3)",
     "output_type": "error",
     "traceback": [
      "\u001b[1;36m  Cell \u001b[1;32mIn[4], line 3\u001b[1;36m\u001b[0m\n\u001b[1;33m    if a is only factor of itself and divisible by 1:\u001b[0m\n\u001b[1;37m                 ^\u001b[0m\n\u001b[1;31mSyntaxError\u001b[0m\u001b[1;31m:\u001b[0m invalid syntax\n"
     ]
    }
   ],
   "source": [
    "a = int(input(\"enter your number\"))\n",
    "b = int(input(\"enter your second number\"))\n",
    "if \n",
    "    print( prime number , a)\n",
    "else:\n",
    "    print( composite number)    \n",
    "\n",
    "pending "
   ]
  },
  {
   "cell_type": "code",
   "execution_count": null,
   "metadata": {},
   "outputs": [],
   "source": []
  },
  {
   "cell_type": "code",
   "execution_count": null,
   "metadata": {},
   "outputs": [],
   "source": []
  },
  {
   "cell_type": "code",
   "execution_count": null,
   "metadata": {},
   "outputs": [],
   "source": [
    "a = int(input(\" num first\"))\n",
    "b = int(input(\"number second\"))\n",
    "s = a*b\n",
    "print \n",
    "c =3 \n",
    "v = 5"
   ]
  },
  {
   "cell_type": "code",
   "execution_count": 10,
   "metadata": {},
   "outputs": [
    {
     "name": "stdout",
     "output_type": "stream",
     "text": [
      "4\n",
      "Miss Shreya Gupta is a Instagram influencer\n"
     ]
    }
   ],
   "source": [
    "a = int(input(\"enter your first number\"))\n",
    "b = int(input(\"enter your second number\"))\n",
    "print (a)\n",
    "print(\"Miss Shreya Gupta is a Instagram influencer\") \n",
    "\n",
    "         "
   ]
  },
  {
   "cell_type": "code",
   "execution_count": 23,
   "metadata": {},
   "outputs": [
    {
     "name": "stdout",
     "output_type": "stream",
     "text": [
      "56.0\n",
      "33.3\n",
      "31.0\n",
      "addition of three floating number =  120.3\n"
     ]
    }
   ],
   "source": [
    "a = float(input(\"enter your first digit\"))\n",
    "b = float(input(\"enter your second digit\"))\n",
    "c = float (input(\"enter third digit\"))\n",
    "add = a+b+c\n",
    "print(a)\n",
    "print(b)\n",
    "print(c)\n",
    "print(\"addition of three floating number = \" ,add)\n",
    "\n"
   ]
  },
  {
   "cell_type": "code",
   "execution_count": 40,
   "metadata": {},
   "outputs": [
    {
     "name": "stdout",
     "output_type": "stream",
     "text": [
      " 1. coercion, as defined in section 15, or\n",
      " 2. indue influence, as defined in section 16, or\n",
      " 3. fraud, as defined in section 17, or\n",
      " 4. misrepresentation, as defined in section 18, or\n",
      " 5. mistake, subject to the provisions of section 20,21 and 22\n"
     ]
    }
   ],
   "source": [
    "print( ''' 1. coercion, as defined in section 15, or\n",
    " 2. indue influence, as defined in section 16, or\n",
    " 3. fraud, as defined in section 17, or\n",
    " 4. misrepresentation, as defined in section 18, or\n",
    " 5. mistake, subject to the provisions of section 20,21 and 22''')"
   ]
  },
  {
   "cell_type": "code",
   "execution_count": 42,
   "metadata": {},
   "outputs": [
    {
     "name": "stdout",
     "output_type": "stream",
     "text": [
      "hey\n"
     ]
    }
   ],
   "source": [
    "print(\"hey\")\n"
   ]
  },
  {
   "cell_type": "code",
   "execution_count": 11,
   "metadata": {},
   "outputs": [
    {
     "name": "stdout",
     "output_type": "stream",
     "text": [
      "************Bill*************\n",
      "quantity sold : \t 12.0\n",
      "price per item : \t 2.0\n",
      "-------------------------------\n",
      "amount : \t\t  24.0\n",
      "discount :\t\t   0.48\n",
      "-------------------------------\n",
      "discounted total : \t 23.52\n",
      "tax : \t\t\t +  0.4704\n",
      "total amount to be paid  23.9904\n"
     ]
    }
   ],
   "source": [
    "qty = float(input(\"enter quantity of item sold\"))\n",
    "val = float(input(\"enter the value of item\"))\n",
    "discount = float(input(\"enter the discount percentage\"))\n",
    "tax = float(input(\"enter the tax\"))\n",
    "amt = qty*val\n",
    "discount_amt = (amt*discount)/100\n",
    "sub_total = amt-discount_amt\n",
    "tax_amt = ( sub_total*tax)/100\n",
    "total_amt = sub_total + tax_amt\n",
    "print(\"************Bill*************\")\n",
    "print(\"quantity sold : \\t\", qty)\n",
    "print(\"price per item : \\t\", val)\n",
    "print(\"-------------------------------\")\n",
    "print(\"amount : \\t\\t \" , amt)\n",
    "print(\"discount :\\t\\t  \" ,discount_amt)\n",
    "print(\"-------------------------------\")\n",
    "print(\"discounted total : \\t\", sub_total)\n",
    "print(\"tax : \\t\\t\\t + \", tax_amt)\n",
    "print(\"total amount to be paid \", total_amt)"
   ]
  },
  {
   "cell_type": "code",
   "execution_count": 45,
   "metadata": {},
   "outputs": [
    {
     "name": "stdout",
     "output_type": "stream",
     "text": [
      "Your order number is\n",
      "  \t  21\n",
      "----------------------\n",
      "Rominus Pizza And Burger\n",
      "----------------------\n",
      "(TAKSHARYA FOOD WORKS PVT,\\LTD)\n",
      "Simar Height Plot No. B-58/2 Sector-B LDA Colony\n",
      "\tKanpur Road\n",
      "\tLucknow-226012\n",
      "\tTAX INVOICE\n",
      "BILL NO : 44\n",
      "BILL TYPE: DINE-IN\n"
     ]
    },
    {
     "ename": "ValueError",
     "evalue": "invalid literal for int() with base 10: '31-2-2'",
     "output_type": "error",
     "traceback": [
      "\u001b[1;31m---------------------------------------------------------------------------\u001b[0m",
      "\u001b[1;31mValueError\u001b[0m                                Traceback (most recent call last)",
      "Cell \u001b[1;32mIn[45], line 16\u001b[0m\n\u001b[0;32m     14\u001b[0m bill \u001b[39m=\u001b[39m \u001b[39minput\u001b[39m(\u001b[39m\"\u001b[39m\u001b[39menter your type\u001b[39m\u001b[39m\"\u001b[39m)\n\u001b[0;32m     15\u001b[0m \u001b[39mprint\u001b[39m(\u001b[39m\"\u001b[39m\u001b[39mBILL TYPE:\u001b[39m\u001b[39m\"\u001b[39m, bill)\n\u001b[1;32m---> 16\u001b[0m dat \u001b[39m=\u001b[39m \u001b[39mint\u001b[39;49m(\u001b[39minput\u001b[39;49m(\u001b[39m\"\u001b[39;49m\u001b[39menter the date\u001b[39;49m\u001b[39m\"\u001b[39;49m))\n\u001b[0;32m     17\u001b[0m \u001b[39mprint\u001b[39m(\u001b[39m\"\u001b[39m\u001b[39mDATE:\u001b[39m\u001b[39m\"\u001b[39m, dat)\n\u001b[0;32m     18\u001b[0m tim \u001b[39m=\u001b[39m \u001b[39mint\u001b[39m(\u001b[39minput\u001b[39m(\u001b[39m\"\u001b[39m\u001b[39menter the time\u001b[39m\u001b[39m\"\u001b[39m))\n",
      "\u001b[1;31mValueError\u001b[0m: invalid literal for int() with base 10: '31-2-2'"
     ]
    }
   ],
   "source": [
    "ord = int(input(\"enter your order number\"))\n",
    "print(\"Your order number is\")\n",
    "print(\"  \\t \" , ord)\n",
    "print(\"----------------------\")\n",
    "print(\"Rominus Pizza And Burger\")\n",
    "print(\"----------------------\")\n",
    "print(\"(TAKSHARYA FOOD WORKS PVT,\\LTD)\")\n",
    "print(\"Simar Height Plot No. B-58/2 Sector-B LDA Colony\")\n",
    "print(\"\\tKanpur Road\")\n",
    "print(\"\\tLucknow-226012\")\n",
    "print(\"\\tTAX INVOICE\")\n",
    "bill_no = int(input(\"enter your bill number\"))\n",
    "print(\"BILL NO :\" ,bil)\n",
    "bill = input(\"enter your type\")\n",
    "print(\"BILL TYPE:\", bill)\n",
    "dat = int(input(\"enter the date\"))\n",
    "print(\"DATE:\", dat)\n",
    "tim = int(input(\"enter the time\"))\n",
    "print(\"TIME:\",tim)\n",
    "print(\"--------------------------------------\")\n",
    "name = input(\"enter the name\")\n",
    "print(\"NAME:\",name)\n",
    "mob_no = int(input(\"enter the mobile number\"))\n",
    "print(\"MOBILE No:\", mob_no)\n",
    "print(\"--------------------------------------\")\n",
    "print(\"DESCRIPTION  \\t \\t QTY  RATE  AMOUNT\")\n",
    "\n"
   ]
  },
  {
   "cell_type": "code",
   "execution_count": 1,
   "metadata": {},
   "outputs": [
    {
     "name": "stdout",
     "output_type": "stream",
     "text": [
      "hello\n"
     ]
    }
   ],
   "source": [
    "print(\"hello\")"
   ]
  },
  {
   "cell_type": "code",
   "execution_count": 4,
   "metadata": {},
   "outputs": [
    {
     "name": "stdout",
     "output_type": "stream",
     "text": [
      " hello  hello  hello  hello  hello  hello  hello  hello  hello  hello  hello  hello  hello  hello  hello  hello  hello  hello  hello  hello  hello  hello  hello  hello  hello  hello  hello  hello  hello  hello  hello  hello  hello  hello  hello  hello  hello  hello  hello  hello  hello  hello  hello  hello  hello  hello  hello  hello  hello  hello \n"
     ]
    }
   ],
   "source": [
    "print(\" hello \" * 50)\n"
   ]
  },
  {
   "cell_type": "code",
   "execution_count": 12,
   "metadata": {},
   "outputs": [
    {
     "name": "stdout",
     "output_type": "stream",
     "text": [
      "hello 1\n",
      "hello hello hello hello hello \n"
     ]
    }
   ],
   "source": [
    "a = 'hello '\n",
    "print( a  + '1')\n",
    "print( a * 5 )\n"
   ]
  },
  {
   "cell_type": "code",
   "execution_count": 21,
   "metadata": {},
   "outputs": [
    {
     "data": {
      "text/plain": [
       "'ll'"
      ]
     },
     "execution_count": 21,
     "metadata": {},
     "output_type": "execute_result"
    }
   ],
   "source": [
    "a[2:4]"
   ]
  },
  {
   "cell_type": "code",
   "execution_count": 27,
   "metadata": {},
   "outputs": [
    {
     "name": "stdout",
     "output_type": "stream",
     "text": [
      "Python\n",
      "is\n",
      "my\n",
      "fav\n",
      "lang\n"
     ]
    }
   ],
   "source": [
    "str = 'Python is my fav lang'\n",
    "print(str[0:6])\n",
    "print(str[7:9])\n",
    "print(str[10:12])\n",
    "print(str[13:16])\n",
    "print(str[17:22])"
   ]
  },
  {
   "cell_type": "code",
   "execution_count": null,
   "metadata": {},
   "outputs": [],
   "source": []
  },
  {
   "cell_type": "code",
   "execution_count": 41,
   "metadata": {},
   "outputs": [
    {
     "name": "stdout",
     "output_type": "stream",
     "text": [
      "('app', 'org', 44, 3, 20, 'fru', 'ban', 50)\n",
      "fru\n",
      "(3, 20, 'fru', 'ban', 50)\n",
      "(1, 2, 3, 4, 5, 6)\n",
      "(1, 2, 3, 4, 5, 6, 'a', 'c', 'f', 't', 1, 2, 3, 4, 5, 6, 'a', 'c', 'f', 't')\n",
      "(1, 2, 3, 4, 5, 6, 'a', 'c', 'f', 't', 'app', 'org', 44, 3, 20, 'fru', 'ban', 50)\n"
     ]
    }
   ],
   "source": [
    "a = (1,2,3,4,5,6,'a','c','f','t')\n",
    "gap = ('app','org',44,3,20,'fru','ban',50)\n",
    "print(gap)\n",
    "print(gap[5])\n",
    "print(gap[3:])\n",
    "print(a[:6])\n",
    "print(a * 2)\n",
    "print( a + gap)"
   ]
  },
  {
   "cell_type": "code",
   "execution_count": 7,
   "metadata": {},
   "outputs": [
    {
     "name": "stdout",
     "output_type": "stream",
     "text": [
      "[22]\n",
      "[55, 'rim']\n",
      "[22, 55, 'rim', 'queen', 66, 'ind', 22, 55, 'rim', 'queen', 66, 'ind']\n",
      "[22, 55, 'rim', 'queen', 66, 'ind', 44, 'lap', 'gb', 7]\n"
     ]
    }
   ],
   "source": [
    "rat = [22,55,\"rim\",\"queen\",66,\"ind\"]\n",
    "tom = [44,\"lap\",\"gb\",7]\n",
    "print(rat[0:1])\n",
    "print(rat[1:3])\n",
    "print(rat * 2)\n",
    "print(rat + tom)"
   ]
  },
  {
   "cell_type": "code",
   "execution_count": 20,
   "metadata": {},
   "outputs": [
    {
     "name": "stdout",
     "output_type": "stream",
     "text": [
      "0.0\n",
      "1\n",
      "1\n",
      "1\n",
      "1\n"
     ]
    }
   ],
   "source": [
    "x1 = int(input(\"enter your first point\"))\n",
    "x2 = int(input(\"enter your second point\"))\n",
    "y1 = int(input(\"enter your third point\"))\n",
    "y2 = int(input(\"enter your fourth point\"))\n",
    "formula = ((x2-x1)**2+(y2-y1)**2)**0.5\n",
    "print(formula)\n",
    "print(x1)\n",
    "print(x2)\n",
    "print(y1)\n",
    "print(y2)\n"
   ]
  },
  {
   "cell_type": "code",
   "execution_count": 13,
   "metadata": {},
   "outputs": [
    {
     "name": "stdout",
     "output_type": "stream",
     "text": [
      "papa ki pari\n",
      "AK47\n"
     ]
    }
   ],
   "source": [
    "im = {\"imp\" : \"top singh\" , \"ugosalavia\":\"president\", \"drugs\":\"mafia\",\"gun\":\"AK47\", \"random didi\":\"papa ki pari\"}\n",
    "print(im[\"random didi\"])\n",
    "print(im[\"gun\"])"
   ]
  },
  {
   "cell_type": "code",
   "execution_count": 4,
   "metadata": {},
   "outputs": [
    {
     "name": "stdout",
     "output_type": "stream",
     "text": [
      "average of num1+num2 =  18.0\n",
      "15.0\n",
      "-15.0\n"
     ]
    }
   ],
   "source": [
    "num1 = int(input(\"enter your first number\" )) \n",
    "num2 = int(input(\"enter your second number\"))\n",
    "avg = (num1+num2)\n",
    "avg1 = (avg/2)\n",
    "dev1 = (num1-avg1)\n",
    "dev2 = (num2-avg1)\n",
    "print(\"average of num1+num2 = \" ,avg1)\n",
    "print(dev1)\n",
    "print(dev2)"
   ]
  },
  {
   "cell_type": "code",
   "execution_count": 27,
   "metadata": {},
   "outputs": [],
   "source": [
    "age = int(input(\"enter the age\"))\n",
    "if(age>=18):\n",
    "    print(\"eligible for vote\")\n"
   ]
  },
  {
   "cell_type": "code",
   "execution_count": 31,
   "metadata": {},
   "outputs": [
    {
     "name": "stdout",
     "output_type": "stream",
     "text": [
      "not eligible for vote\n",
      "years left to vote = 6\n"
     ]
    }
   ],
   "source": [
    "age = int(input(\"enter the age\"))\n",
    "if(age>=18):\n",
    "    print(\"eligible for vote\")\n",
    "else:\n",
    "    ag = 18 - age\n",
    "    print(\"not eligible for vote\") \n",
    "    print(\"years left to vote =\", ag)   "
   ]
  },
  {
   "cell_type": "code",
   "execution_count": 38,
   "metadata": {},
   "outputs": [
    {
     "name": "stdout",
     "output_type": "stream",
     "text": [
      "76\n",
      "num1 is = 22\n",
      "num2 is = 76\n"
     ]
    }
   ],
   "source": [
    "num1 = int(input(\"enter the first number\"))\n",
    "num2 = int(input(\"enter the second value\"))\n",
    "if(num1>num2):\n",
    "    print(num1)\n",
    "else:\n",
    "    print(num2)\n",
    "print(\"largest num is =\")    \n",
    "print(\"num1 is =\",num1)\n",
    "print(\"num2 is =\", num2)"
   ]
  },
  {
   "cell_type": "code",
   "execution_count": 2,
   "metadata": {},
   "outputs": [
    {
     "name": "stdout",
     "output_type": "stream",
     "text": [
      "a\n",
      "SURYANSH\n"
     ]
    }
   ],
   "source": [
    "ch = 'A'\n",
    "print(ch.lower())\n",
    "ch1 = 'suryansh'\n",
    "print( ch1.upper())"
   ]
  },
  {
   "cell_type": "code",
   "execution_count": 13,
   "metadata": {},
   "outputs": [
    {
     "name": "stdout",
     "output_type": "stream",
     "text": [
      "BB\n"
     ]
    }
   ],
   "source": [
    "ch = input(\"Enter the your string\")\n",
    "if(ch>='A' and ch<='Z'):\n",
    "    print(ch.lower())\n",
    "else:\n",
    "    print(ch.upper())\n"
   ]
  },
  {
   "cell_type": "code",
   "execution_count": 39,
   "metadata": {},
   "outputs": [
    {
     "name": "stdout",
     "output_type": "stream",
     "text": [
      "Saturday\n"
     ]
    }
   ],
   "source": [
    "a = int(input(\"enter your number upto 7\"))\n",
    "if(a==1):\n",
    "    print(\"Monday\")\n",
    "if(a==2):\n",
    "    print(\"Tuesday\")\n",
    "if(a==3):\n",
    "    print(\"Wednesday\")\n",
    "if(a==4):    \n",
    "    print(\"Thursday\")\n",
    "if(a==5):\n",
    "    print(\"Friday\")\n",
    "if(a==6):    \n",
    "    print(\"Saturday\")\n",
    "if(a==7):    \n",
    "    print(\"Sunday\")\n",
    "\n"
   ]
  },
  {
   "cell_type": "code",
   "execution_count": null,
   "metadata": {},
   "outputs": [],
   "source": []
  }
 ],
 "metadata": {
  "kernelspec": {
   "display_name": "base",
   "language": "python",
   "name": "python3"
  },
  "language_info": {
   "codemirror_mode": {
    "name": "ipython",
    "version": 3
   },
   "file_extension": ".py",
   "mimetype": "text/x-python",
   "name": "python",
   "nbconvert_exporter": "python",
   "pygments_lexer": "ipython3",
   "version": "3.9.12"
  },
  "orig_nbformat": 4,
  "vscode": {
   "interpreter": {
    "hash": "8c46ac5aaab4d3c9f2f9be91c3b9b95f2b8ede1f4aae554ca1e34eefcba1468b"
   }
  }
 },
 "nbformat": 4,
 "nbformat_minor": 2
}
