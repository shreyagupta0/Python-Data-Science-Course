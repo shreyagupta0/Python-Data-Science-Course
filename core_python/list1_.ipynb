{
 "cells": [
  {
   "attachments": {},
   "cell_type": "markdown",
   "metadata": {},
   "source": [
    "data structure\n",
    "string\n",
    "list\n",
    "tuple\n",
    "set\n",
    "dictionary\n"
   ]
  },
  {
   "attachments": {},
   "cell_type": "markdown",
   "metadata": {},
   "source": [
    "list\n",
    "- ordered,indexed, mutable,allows duplicate element\n",
    "- hetrogenous (mixed types of values can be stored)\n",
    "- it can be nested\n",
    "list() is used for creating a list from another sequeance \n",
    "represented by[]\n"
   ]
  },
  {
   "attachments": {},
   "cell_type": "markdown",
   "metadata": {},
   "source": [
    "create , access , modify"
   ]
  },
  {
   "cell_type": "code",
   "execution_count": 2,
   "metadata": {},
   "outputs": [
    {
     "name": "stdout",
     "output_type": "stream",
     "text": [
      "[] []\n",
      "<class 'list'> <class 'list'>\n"
     ]
    }
   ],
   "source": [
    "x = [] # empty list\n",
    "y = list() #empty list\n",
    "print(x,y)\n",
    "print(type(x) , type(y))"
   ]
  },
  {
   "cell_type": "code",
   "execution_count": 2,
   "metadata": {},
   "outputs": [
    {
     "name": "stdout",
     "output_type": "stream",
     "text": [
      "[1, 2, 3, 4, 5] ['shreya', 'mitali', 'yashi']\n"
     ]
    }
   ],
   "source": [
    "x = [1,2,3,4,5]\n",
    "names = ['shreya','mitali','yashi']\n",
    "print(x,names)"
   ]
  },
  {
   "cell_type": "code",
   "execution_count": 3,
   "metadata": {},
   "outputs": [
    {
     "name": "stdout",
     "output_type": "stream",
     "text": [
      "[1, 1, 1, 1, 1, 1, 1, 1, 1, 1]\n"
     ]
    }
   ],
   "source": [
    "ones = [1]*10\n",
    "print(ones)"
   ]
  },
  {
   "cell_type": "code",
   "execution_count": 4,
   "metadata": {},
   "outputs": [
    {
     "name": "stdout",
     "output_type": "stream",
     "text": [
      "['h', 'o', 'm', 'o', 's', 'a', 'p', 'i', 'e', 'n', 's']\n"
     ]
    }
   ],
   "source": [
    "word = 'homosapiens'\n",
    "char = list(word)\n",
    "print(char)"
   ]
  },
  {
   "cell_type": "code",
   "execution_count": 6,
   "metadata": {},
   "outputs": [
    {
     "name": "stdout",
     "output_type": "stream",
     "text": [
      "['movie1', 'movie2', 'movie3', 'movie4', 'movie5', 'movie6', 'movie6', 'movie7', 'movie8', 'movie9', 'movie10', 'movie11', 'movie12', 'movie13', 'movie14', 'movie15']\n"
     ]
    }
   ],
   "source": [
    "movie =['movie1','movie2','movie3','movie4','movie5','movie6','movie6','movie7','movie8','movie9','movie10','movie11','movie12','movie13','movie14','movie15']\n",
    "print(movie)"
   ]
  },
  {
   "cell_type": "code",
   "execution_count": 7,
   "metadata": {},
   "outputs": [
    {
     "name": "stdout",
     "output_type": "stream",
     "text": [
      "['movie1', 'movie2', 'movie3', 'movie4', 'movie5', 'movie6', 'movie6', 'movie7', 'movie8', 'movie9', 'movie10', 'movie11', 'movie12', 'movie13', 'movie14', 'movie15']\n",
      "movie1\n",
      "movie2\n",
      "movie3\n",
      "movie4\n",
      "movie5\n",
      "movie6\n",
      "movie6\n",
      "movie7\n",
      "movie8\n",
      "movie9\n",
      "movie10\n",
      "movie11\n",
      "movie12\n",
      "movie13\n",
      "movie14\n",
      "movie15\n"
     ]
    }
   ],
   "source": [
    "movie =['movie1','movie2','movie3','movie4','movie5','movie6','movie6','movie7','movie8','movie9','movie10','movie11','movie12','movie13','movie14','movie15']\n",
    "print(movie)\n",
    "for i in movie:\n",
    "    print(i)"
   ]
  },
  {
   "cell_type": "code",
   "execution_count": 5,
   "metadata": {},
   "outputs": [
    {
     "data": {
      "text/plain": [
       "16"
      ]
     },
     "execution_count": 5,
     "metadata": {},
     "output_type": "execute_result"
    }
   ],
   "source": [
    "len(movie)"
   ]
  },
  {
   "cell_type": "code",
   "execution_count": 6,
   "metadata": {},
   "outputs": [
    {
     "data": {
      "text/plain": [
       "['movie1', 'movie2', 'movie3', 'movie4', 'movie5', 'movie6']"
      ]
     },
     "execution_count": 6,
     "metadata": {},
     "output_type": "execute_result"
    }
   ],
   "source": [
    "movie[:6]"
   ]
  },
  {
   "cell_type": "code",
   "execution_count": 8,
   "metadata": {},
   "outputs": [
    {
     "name": "stdout",
     "output_type": "stream",
     "text": [
      "['book1', 'book2', 'book2']\n"
     ]
    }
   ],
   "source": [
    "book = ['book1','book2','book2']\n",
    "print(book)"
   ]
  },
  {
   "cell_type": "code",
   "execution_count": 10,
   "metadata": {},
   "outputs": [
    {
     "name": "stdout",
     "output_type": "stream",
     "text": [
      "['book1', 'shreya', 'book2']\n"
     ]
    }
   ],
   "source": [
    "book[1] = 'shreya'\n",
    "print(book)"
   ]
  },
  {
   "cell_type": "code",
   "execution_count": 11,
   "metadata": {},
   "outputs": [
    {
     "name": "stdout",
     "output_type": "stream",
     "text": [
      "['book1', 'the final empire', 'the way of king']\n"
     ]
    }
   ],
   "source": [
    "book[1] = 'the final empire'\n",
    "book[2] = 'the way of king'\n",
    "print(book)"
   ]
  },
  {
   "attachments": {},
   "cell_type": "markdown",
   "metadata": {},
   "source": [
    "list_var.append(single_element)\n",
    "list_var.remove(single_element)"
   ]
  },
  {
   "cell_type": "code",
   "execution_count": 12,
   "metadata": {},
   "outputs": [
    {
     "name": "stdout",
     "output_type": "stream",
     "text": [
      "['book1', 'the final empire', 'the way of king', 'the hero of ages']\n"
     ]
    }
   ],
   "source": [
    "book.append('the hero of ages')\n",
    "print(book)"
   ]
  },
  {
   "cell_type": "code",
   "execution_count": 13,
   "metadata": {},
   "outputs": [
    {
     "name": "stdout",
     "output_type": "stream",
     "text": [
      "['book1', 'the final empire', 'the way of king']\n"
     ]
    }
   ],
   "source": [
    "book.remove('the hero of ages')\n",
    "print(book)"
   ]
  },
  {
   "cell_type": "code",
   "execution_count": 15,
   "metadata": {},
   "outputs": [
    {
     "name": "stdout",
     "output_type": "stream",
     "text": [
      "['the', 'hero', 'the', 'hero', 'the']\n"
     ]
    }
   ],
   "source": [
    "book = []\n",
    "for i in range(5):\n",
    "    book.append(input())\n",
    "print(book)    "
   ]
  },
  {
   "cell_type": "code",
   "execution_count": 17,
   "metadata": {},
   "outputs": [
    {
     "data": {
      "text/plain": [
       "['hero', 'the', 'hero']"
      ]
     },
     "execution_count": 17,
     "metadata": {},
     "output_type": "execute_result"
    }
   ],
   "source": [
    "book[5:-5]#starts at 5 and end at 5"
   ]
  },
  {
   "cell_type": "code",
   "execution_count": null,
   "metadata": {},
   "outputs": [],
   "source": [
    "book [::-1]# reverse the list"
   ]
  },
  {
   "attachments": {},
   "cell_type": "markdown",
   "metadata": {},
   "source": [
    "method \n",
    "- for adding\n",
    "- append()\n",
    "- insert()\n",
    "- extend()\n",
    "for remove\n",
    "-remove()\n",
    "-pop()\n",
    "-clear()\n",
    "--- utility\n",
    "-index()\n",
    "-count()\n",
    "-sort()\n",
    "-reverse()\n",
    "-copy()"
   ]
  },
  {
   "cell_type": "code",
   "execution_count": 24,
   "metadata": {},
   "outputs": [
    {
     "name": "stdout",
     "output_type": "stream",
     "text": [
      "[1, 2, 3]\n"
     ]
    }
   ],
   "source": [
    "x = [1,2]\n",
    "x.append(3)\n",
    "print(x)\n"
   ]
  },
  {
   "cell_type": "code",
   "execution_count": 2,
   "metadata": {},
   "outputs": [
    {
     "name": "stdout",
     "output_type": "stream",
     "text": [
      "[1, 1.5, 2, 3]\n"
     ]
    }
   ],
   "source": [
    "x=[1,2,3]\n",
    "x.insert(1,1.5)# index 1 in place pr 1.5 ko insert kiya h\n",
    "print(x)"
   ]
  },
  {
   "cell_type": "code",
   "execution_count": 3,
   "metadata": {},
   "outputs": [
    {
     "data": {
      "text/plain": [
       "[1, 2, 3, 4, 1, 2, 5]"
      ]
     },
     "execution_count": 3,
     "metadata": {},
     "output_type": "execute_result"
    }
   ],
   "source": [
    "a = [1,2,3]\n",
    "b = [4,1,2,5]\n",
    "a+b"
   ]
  },
  {
   "cell_type": "code",
   "execution_count": 4,
   "metadata": {},
   "outputs": [
    {
     "name": "stdout",
     "output_type": "stream",
     "text": [
      "[1, 2, 3, 4, 1, 2, 5]\n"
     ]
    }
   ],
   "source": [
    "a.extend(b) #extend is use to add to list\n",
    "print(a)"
   ]
  },
  {
   "cell_type": "code",
   "execution_count": 2,
   "metadata": {},
   "outputs": [
    {
     "name": "stdout",
     "output_type": "stream",
     "text": [
      "55\n"
     ]
    }
   ],
   "source": [
    "#wap to calculate the sum of all the element in the list\n",
    "a = [1,2,3,4,5,6,7,8,9,10] \n",
    "c=0\n",
    "for i in a:\n",
    "    c+=i\n",
    "print(c)\n"
   ]
  },
  {
   "cell_type": "code",
   "execution_count": 6,
   "metadata": {},
   "outputs": [
    {
     "name": "stdout",
     "output_type": "stream",
     "text": [
      "largest number = 99\n"
     ]
    }
   ],
   "source": [
    "# wap to find the largest number in the list\n",
    "a = [12,32,6,87,98,45,3,99,2,34,5,9,0,8,7,55,98,12,89]\n",
    "a.sort(reverse=True)\n",
    "\n",
    "print(f'largest number = {a[0]}')"
   ]
  },
  {
   "cell_type": "code",
   "execution_count": 8,
   "metadata": {},
   "outputs": [
    {
     "name": "stdout",
     "output_type": "stream",
     "text": [
      "smallest number = 0\n"
     ]
    }
   ],
   "source": [
    "# wap to find the smallest number in the list\n",
    "a.sort()\n",
    "print(f'smallest number = {a[0]}')"
   ]
  },
  {
   "cell_type": "code",
   "execution_count": 9,
   "metadata": {},
   "outputs": [
    {
     "name": "stdout",
     "output_type": "stream",
     "text": [
      "second largest number = 98\n"
     ]
    }
   ],
   "source": [
    "#wap to find the second largest number in the list\n",
    "a.sort(reverse=True)\n",
    "print(f'second largest number = {a[1]}')"
   ]
  }
 ],
 "metadata": {
  "kernelspec": {
   "display_name": "base",
   "language": "python",
   "name": "python3"
  },
  "language_info": {
   "codemirror_mode": {
    "name": "ipython",
    "version": 3
   },
   "file_extension": ".py",
   "mimetype": "text/x-python",
   "name": "python",
   "nbconvert_exporter": "python",
   "pygments_lexer": "ipython3",
   "version": "3.9.12"
  },
  "orig_nbformat": 4,
  "vscode": {
   "interpreter": {
    "hash": "8c46ac5aaab4d3c9f2f9be91c3b9b95f2b8ede1f4aae554ca1e34eefcba1468b"
   }
  }
 },
 "nbformat": 4,
 "nbformat_minor": 2
}
