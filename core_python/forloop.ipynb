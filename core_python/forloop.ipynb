{
 "cells": [
  {
   "cell_type": "code",
   "execution_count": 1,
   "metadata": {},
   "outputs": [
    {
     "name": "stdout",
     "output_type": "stream",
     "text": [
      "the sum of the series = 2.283333333333333\n"
     ]
    }
   ],
   "source": [
    "n = int(input(\"enter the number\"))\n",
    "sum = 0\n",
    "a = 1\n",
    "for i in range (1,n+1):\n",
    "    a = 1/i\n",
    "    sum = sum + a\n",
    "print(\"the sum of the series =\"  , sum)    "
   ]
  },
  {
   "cell_type": "code",
   "execution_count": 2,
   "metadata": {},
   "outputs": [
    {
     "name": "stdout",
     "output_type": "stream",
     "text": [
      "the sum of the series = 1.4636111111111112\n"
     ]
    }
   ],
   "source": [
    "n = int(input(\"enter the number\"))\n",
    "sum = 0\n",
    "a = 1\n",
    "for i in range (1,n+1):\n",
    "    a = 1/(i**2)\n",
    "    sum = sum + a\n",
    "print(\"the sum of the series =\"  , sum)   "
   ]
  },
  {
   "cell_type": "code",
   "execution_count": 4,
   "metadata": {},
   "outputs": [
    {
     "name": "stdout",
     "output_type": "stream",
     "text": [
      "125\n"
     ]
    }
   ],
   "source": [
    "sum = 5**3\n",
    "print (sum)"
   ]
  },
  {
   "cell_type": "code",
   "execution_count": 7,
   "metadata": {},
   "outputs": [
    {
     "name": "stdout",
     "output_type": "stream",
     "text": [
      "the sum of the series = 3.5500000000000003\n"
     ]
    }
   ],
   "source": [
    "n = int(input(\"enter the number\"))\n",
    "sum = 0\n",
    "a = 1\n",
    "for i in range (1,n+1):\n",
    "    a = i/(i+1)\n",
    "    sum = sum + a\n",
    "print(\"the sum of the series =\"  , sum)   "
   ]
  },
  {
   "cell_type": "code",
   "execution_count": 8,
   "metadata": {},
   "outputs": [
    {
     "name": "stdout",
     "output_type": "stream",
     "text": [
      "the sum of the series = 701.0\n"
     ]
    }
   ],
   "source": [
    "n = int(input(\"enter the number\"))\n",
    "sum = 0\n",
    "a = 1\n",
    "for i in range (1,n+1):\n",
    "    a =  (i**i)/i\n",
    "    sum = sum + a\n",
    "print(\"the sum of the series =\"  , sum)   "
   ]
  },
  {
   "cell_type": "code",
   "execution_count": 9,
   "metadata": {},
   "outputs": [
    {
     "name": "stdout",
     "output_type": "stream",
     "text": [
      "the sum of the cubes = 225\n"
     ]
    }
   ],
   "source": [
    "n = int(input(\"enter the number\"))\n",
    "sum = 0\n",
    "a = 1\n",
    "for i in range (1,n+1):\n",
    "    a =  i**3\n",
    "    sum = sum + a\n",
    "print(\"the sum of the cubes =\"  , sum)   "
   ]
  },
  {
   "cell_type": "code",
   "execution_count": 12,
   "metadata": {},
   "outputs": [
    {
     "name": "stdout",
     "output_type": "stream",
     "text": [
      "the sum of the series = 220\n"
     ]
    }
   ],
   "source": [
    "n = int(input(\"enter the number\"))\n",
    "sum = 0\n",
    "a = 1\n",
    "for i in range (1,n+1):\n",
    "    if(i%2==0):\n",
    "        a = i**2\n",
    "    else :\n",
    "        a = 0 \n",
    "    sum = sum + a        \n",
    "\n",
    "\n",
    "print(\"the sum of the series =\"  , sum)   "
   ]
  },
  {
   "cell_type": "code",
   "execution_count": 3,
   "metadata": {},
   "outputs": [
    {
     "name": "stdout",
     "output_type": "stream",
     "text": [
      " Mon Tue Thur Fri Sat Sun \n",
      "--------------------------- \n"
     ]
    }
   ],
   "source": [
    "startday = int(input(\"enter the day from (1-7)\" ))\n",
    "numberofdays = int(input(\"enter the number of day\"))\n",
    "print( \" Mon Tue Thur Fri Sat Sun \")\n",
    "print(\"--------------------------- \")\n",
    "\n"
   ]
  },
  {
   "cell_type": "code",
   "execution_count": 23,
   "metadata": {},
   "outputs": [
    {
     "name": "stdout",
     "output_type": "stream",
     "text": [
      "PASS 1 - \n",
      "1 2 3 4 5 \n",
      "PASS 2 - \n",
      "1 2 3 4 5 \n",
      "PASS 3 - \n",
      "1 2 3 4 5 \n",
      "PASS 4 - \n",
      "1 2 3 4 5 \n",
      "PASS 5 - \n",
      "1 2 3 4 5 \n"
     ]
    }
   ],
   "source": [
    "for i in range (1,6):\n",
    "    print(\"PASS\",i,\"- \")\n",
    "    for j in range(1,6):\n",
    "        print(j,end=' ')\n",
    "    print( )    "
   ]
  },
  {
   "cell_type": "code",
   "execution_count": 27,
   "metadata": {},
   "outputs": [
    {
     "name": "stdout",
     "output_type": "stream",
     "text": [
      "\n",
      "**********\n",
      "**********\n",
      "**********\n",
      "**********\n",
      "**********"
     ]
    }
   ],
   "source": [
    "for i in range(1,6):\n",
    "    print()\n",
    "    for j in range(1,11):\n",
    "        print(\"*\", end='')"
   ]
  },
  {
   "cell_type": "code",
   "execution_count": 30,
   "metadata": {},
   "outputs": [
    {
     "name": "stdout",
     "output_type": "stream",
     "text": [
      "\n",
      "\n",
      "*\n",
      "**\n",
      "***\n",
      "****\n",
      "*****"
     ]
    }
   ],
   "source": [
    "for i in range (6):\n",
    "    print()\n",
    "    for j in range (i):\n",
    "        print(\"*\" , end='')"
   ]
  },
  {
   "cell_type": "code",
   "execution_count": 34,
   "metadata": {},
   "outputs": [
    {
     "name": "stdout",
     "output_type": "stream",
     "text": [
      "\n",
      "1\n",
      "12\n",
      "123\n",
      "1234\n",
      "12345"
     ]
    }
   ],
   "source": [
    "for i in range (1,6):\n",
    "    print()\n",
    "    for j in range (1,i+1):\n",
    "        print( j,end='')"
   ]
  },
  {
   "cell_type": "code",
   "execution_count": 40,
   "metadata": {},
   "outputs": [
    {
     "name": "stdout",
     "output_type": "stream",
     "text": [
      "\n",
      "1\n",
      "22\n",
      "333\n",
      "4444\n",
      "55555"
     ]
    }
   ],
   "source": [
    "for i in range (1,6):\n",
    "    print()\n",
    "    for j in range (1,i+1):\n",
    "        print( i,end='')"
   ]
  },
  {
   "cell_type": "code",
   "execution_count": 6,
   "metadata": {},
   "outputs": [
    {
     "name": "stdout",
     "output_type": "stream",
     "text": [
      "\n",
      "1\n",
      "22\n",
      "333\n",
      "4444\n",
      "55555"
     ]
    }
   ],
   "source": [
    "for i in range (1,6):\n",
    "    print()\n",
    "    for j in range(1,i+1):\n",
    "        print( i , end = '')"
   ]
  },
  {
   "cell_type": "code",
   "execution_count": 10,
   "metadata": {},
   "outputs": [
    {
     "name": "stdout",
     "output_type": "stream",
     "text": [
      "\n",
      "1\n",
      "12\n",
      "123\n",
      "1234\n",
      "12345"
     ]
    }
   ],
   "source": [
    "for i in range (1,6):\n",
    "    print()\n",
    "    for j in range(1,i+1):\n",
    "        print( j , end = '')"
   ]
  },
  {
   "cell_type": "code",
   "execution_count": 11,
   "metadata": {},
   "outputs": [
    {
     "name": "stdout",
     "output_type": "stream",
     "text": [
      "\n",
      "0\n",
      "12\n",
      "345\n",
      "6789"
     ]
    }
   ],
   "source": [
    "count = 0\n",
    "for i in range (1,5):\n",
    "    print()\n",
    "    for j in range(0,i):\n",
    "        print( count , end = '')\n",
    "        count = count+1"
   ]
  },
  {
   "cell_type": "code",
   "execution_count": 9,
   "metadata": {},
   "outputs": [
    {
     "name": "stdout",
     "output_type": "stream",
     "text": [
      "55555\n",
      "4444\n",
      "333\n",
      "22\n",
      "1\n"
     ]
    }
   ],
   "source": [
    "N = 5\n",
    "for i in range (N,0,-1):\n",
    "    for k in range(N, -1):\n",
    "        print(i , end = '')\n",
    "    for j in range (1 , i+1):\n",
    "        print( i , end ='')\n",
    "    print()    "
   ]
  },
  {
   "cell_type": "code",
   "execution_count": 25,
   "metadata": {},
   "outputs": [
    {
     "name": "stdout",
     "output_type": "stream",
     "text": [
      "    *\n",
      "   ***\n",
      "  *****\n",
      " *******\n"
     ]
    }
   ],
   "source": [
    "n = 5\n",
    "for i in range(1,n):\n",
    "    for j in range(n-i):\n",
    "        print(\" \", end=\"\")\n",
    "    for k in range(i*2-1):\n",
    "        print(\"*\", end=\"\")\n",
    "    print()"
   ]
  },
  {
   "cell_type": "code",
   "execution_count": 29,
   "metadata": {},
   "outputs": [
    {
     "name": "stdout",
     "output_type": "stream",
     "text": [
      " *******\n",
      "  *****\n",
      "   ***\n",
      "    *\n"
     ]
    }
   ],
   "source": [
    "n = 5\n",
    "for i in range(1,n):\n",
    "    for j in range(i):\n",
    "        print(\" \", end=\"\")\n",
    "    for k in range(n*2-i*2-1):\n",
    "        print(\"*\", end=\"\")\n",
    "    print()"
   ]
  }
 ],
 "metadata": {
  "kernelspec": {
   "display_name": "base",
   "language": "python",
   "name": "python3"
  },
  "language_info": {
   "codemirror_mode": {
    "name": "ipython",
    "version": 3
   },
   "file_extension": ".py",
   "mimetype": "text/x-python",
   "name": "python",
   "nbconvert_exporter": "python",
   "pygments_lexer": "ipython3",
   "version": "3.9.12"
  },
  "orig_nbformat": 4
 },
 "nbformat": 4,
 "nbformat_minor": 2
}
