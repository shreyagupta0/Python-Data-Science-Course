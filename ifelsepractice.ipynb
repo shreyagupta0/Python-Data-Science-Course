{
 "cells": [
  {
   "cell_type": "code",
   "execution_count": 25,
   "metadata": {},
   "outputs": [
    {
     "name": "stdout",
     "output_type": "stream",
     "text": [
      "H\n"
     ]
    }
   ],
   "source": [
    "char = input(\"enter any character\")\n",
    "if (char>='A' and char <='Z'):\n",
    "    print(char.lower())\n",
    "else:\n",
    "    print(char.upper())    "
   ]
  },
  {
   "cell_type": "code",
   "execution_count": 30,
   "metadata": {},
   "outputs": [
    {
     "name": "stdout",
     "output_type": "stream",
     "text": [
      "positive\n"
     ]
    }
   ],
   "source": [
    "num = int(input(\"enter the number\"))\n",
    "if num>0:\n",
    "    print(\"positive\")\n",
    "elif num<0:\n",
    "    print (\"negative\")\n",
    "elif num==0:\n",
    "    print(\"zero\")  \n",
    "         "
   ]
  },
  {
   "cell_type": "code",
   "execution_count": 3,
   "metadata": {},
   "outputs": [
    {
     "name": "stdout",
     "output_type": "stream",
     "text": [
      "vowel\n"
     ]
    }
   ],
   "source": [
    "#vowel or not\n",
    "char =input(\"enter the character\")\n",
    "if (char==\"A\"or char==\"E\"or char ==\"I\"or char ==\"O\"or char ==\"U\"):\n",
    "    print(\"vowel\")\n",
    "elif(char==\"a\"or char ==\"e\" or char==\"i\" or char ==\"o\" or char==\"u\"):\n",
    "    print(\"vowel\") \n",
    "else:\n",
    "    print(\"not a vowel\")    \n"
   ]
  },
  {
   "cell_type": "code",
   "execution_count": 7,
   "metadata": {},
   "outputs": [
    {
     "name": "stdout",
     "output_type": "stream",
     "text": [
      "12\n"
     ]
    }
   ],
   "source": [
    "#to find greater number from 3 numbers\n",
    "num1=int(input(\"enter the number1\"))\n",
    "num2=int(input(\"enter the number2\"))\n",
    "num3=int(input(\"enter the number3\"))\n",
    "if (num1>num2):\n",
    "    if(num1>num2)\n",
    "    print(num1)\n",
    "elif (num2>num1):\n",
    "    if\n",
    "    print(num3)\n",
    "elif(num3>num1 and num3>num2):\n",
    "    print(num3)\n",
    "else:\n",
    "    print(\"equal\")            "
   ]
  }
 ],
 "metadata": {
  "kernelspec": {
   "display_name": "base",
   "language": "python",
   "name": "python3"
  },
  "language_info": {
   "codemirror_mode": {
    "name": "ipython",
    "version": 3
   },
   "file_extension": ".py",
   "mimetype": "text/x-python",
   "name": "python",
   "nbconvert_exporter": "python",
   "pygments_lexer": "ipython3",
   "version": "3.9.12 (main, Apr  4 2022, 05:22:27) [MSC v.1916 64 bit (AMD64)]"
  },
  "orig_nbformat": 4,
  "vscode": {
   "interpreter": {
    "hash": "8c46ac5aaab4d3c9f2f9be91c3b9b95f2b8ede1f4aae554ca1e34eefcba1468b"
   }
  }
 },
 "nbformat": 4,
 "nbformat_minor": 2
}
