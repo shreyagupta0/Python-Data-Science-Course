{
 "cells": [
  {
   "attachments": {},
   "cell_type": "markdown",
   "metadata": {},
   "source": [
    "data structure\n",
    "list\n",
    "tuple\n",
    "set\n",
    "dictionary\n",
    "#### DICTIONARY  ####\n",
    "- ordered , unindexed , mutable\n",
    "- key- value pairs {key:value}\n",
    "-keys are unique , values can be duplicated\n",
    "- keys are immutable, values can be mutable\n",
    "- represented by{}\n",
    "-dict() constructor that takes a list of tuplea as an argument"
   ]
  },
  {
   "cell_type": "code",
   "execution_count": 1,
   "metadata": {},
   "outputs": [
    {
     "name": "stdout",
     "output_type": "stream",
     "text": [
      "['X91290', 'Mobile Phone', '12858', '1000', '12-12-23', 0, 1, 0]\n"
     ]
    }
   ],
   "source": [
    "x = ['X91290','Mobile Phone','12858','1000','12-12-23',0,1,0]\n",
    "print(x)\n"
   ]
  },
  {
   "cell_type": "code",
   "execution_count": 2,
   "metadata": {},
   "outputs": [
    {
     "name": "stdout",
     "output_type": "stream",
     "text": [
      "{'id': 'X91290', 'type': 'mobile phone', 'price': '123455', 'quantity': '1999', 'date': '12-12-12', 'is_availabe': 0, 'is_delivered': 1, 'is_new': 1}\n"
     ]
    }
   ],
   "source": [
    "x = {\n",
    "    'id':'X91290',\n",
    "    'type':'mobile phone',\n",
    "    'price':'123455',\n",
    "    'quantity':'1999',\n",
    "    'date':'12-12-12',\n",
    "    'is_availabe':0,\n",
    "    'is_delivered':1,\n",
    "    'is_new':1\n",
    "}\n",
    "print(x)"
   ]
  },
  {
   "cell_type": "code",
   "execution_count": 6,
   "metadata": {},
   "outputs": [
    {
     "name": "stdout",
     "output_type": "stream",
     "text": [
      "12-12-12 123455 1\n"
     ]
    }
   ],
   "source": [
    "print(x ['date'],x['price'],x['is_new'])"
   ]
  },
  {
   "cell_type": "code",
   "execution_count": null,
   "metadata": {},
   "outputs": [],
   "source": [
    "retreive value by Key \n",
    "dict[key]\n",
    "dict.get(key)"
   ]
  },
  {
   "cell_type": "code",
   "execution_count": 7,
   "metadata": {},
   "outputs": [
    {
     "data": {
      "text/plain": [
       "'1999'"
      ]
     },
     "execution_count": 7,
     "metadata": {},
     "output_type": "execute_result"
    }
   ],
   "source": [
    "x.get('quantity')"
   ]
  },
  {
   "cell_type": "code",
   "execution_count": 8,
   "metadata": {},
   "outputs": [
    {
     "data": {
      "text/plain": [
       "'1999'"
      ]
     },
     "execution_count": 8,
     "metadata": {},
     "output_type": "execute_result"
    }
   ],
   "source": [
    "x.get('quantity',0)"
   ]
  },
  {
   "cell_type": "code",
   "execution_count": 9,
   "metadata": {},
   "outputs": [
    {
     "data": {
      "text/plain": [
       "'type'"
      ]
     },
     "execution_count": 9,
     "metadata": {},
     "output_type": "execute_result"
    }
   ],
   "source": [
    "x.get('idk','type')"
   ]
  },
  {
   "cell_type": "code",
   "execution_count": 11,
   "metadata": {},
   "outputs": [
    {
     "data": {
      "text/plain": [
       "dict_keys(['id', 'type', 'price', 'quantity', 'date', 'is_availabe', 'is_delivered', 'is_new'])"
      ]
     },
     "execution_count": 11,
     "metadata": {},
     "output_type": "execute_result"
    }
   ],
   "source": [
    "x.keys()"
   ]
  },
  {
   "cell_type": "code",
   "execution_count": 12,
   "metadata": {},
   "outputs": [
    {
     "data": {
      "text/plain": [
       "dict_values(['X91290', 'mobile phone', '123455', '1999', '12-12-12', 0, 1, 1])"
      ]
     },
     "execution_count": 12,
     "metadata": {},
     "output_type": "execute_result"
    }
   ],
   "source": [
    "x.values()"
   ]
  },
  {
   "cell_type": "code",
   "execution_count": 14,
   "metadata": {},
   "outputs": [
    {
     "name": "stdout",
     "output_type": "stream",
     "text": [
      "{1: 'a', 2: 'b', 3: 'c', 4: 'd', 5: 'e'}\n"
     ]
    }
   ],
   "source": [
    "x = [1,2,3,4,5]\n",
    "names = ['a','b','c','d','e']\n",
    "info = {} #empty dict\n",
    "for i , j in zip(x,names):\n",
    "    info[i]=j\n",
    "    #dict[key]= values this is how to add key value pair to dict\n",
    "print(info)\n"
   ]
  },
  {
   "cell_type": "code",
   "execution_count": 15,
   "metadata": {},
   "outputs": [
    {
     "name": "stdout",
     "output_type": "stream",
     "text": [
      "{'alex': 'anderson', 'john': 'brown'}\n"
     ]
    }
   ],
   "source": [
    "fname = ['alex','john']\n",
    "lname = ['anderson','brown']\n",
    "names = {}\n",
    "for f,l in zip(fname,lname):\n",
    "    names[f]= l\n",
    "print(names)    "
   ]
  },
  {
   "cell_type": "code",
   "execution_count": 16,
   "metadata": {},
   "outputs": [
    {
     "name": "stdout",
     "output_type": "stream",
     "text": [
      "{'alex': 'anderson', 'john': 'brown'}\n"
     ]
    }
   ],
   "source": [
    "from pprint import pp\n",
    "pp(names)"
   ]
  },
  {
   "cell_type": "code",
   "execution_count": 17,
   "metadata": {},
   "outputs": [
    {
     "name": "stdout",
     "output_type": "stream",
     "text": [
      "{'shreya': 150000,\n",
      " 'yashi': 1345,\n",
      " 'mitali': 143563,\n",
      " 'mom': 45367,\n",
      " 'nidhi': 45567}\n"
     ]
    }
   ],
   "source": [
    "budget = {}\n",
    "for i in range(5):\n",
    "    name = input('enter name:')\n",
    "    amount = int(input('enter amount'))\n",
    "    budget[name]= amount\n",
    "pp(budget,width=1)    \n"
   ]
  },
  {
   "cell_type": "code",
   "execution_count": 18,
   "metadata": {},
   "outputs": [
    {
     "name": "stdout",
     "output_type": "stream",
     "text": [
      "{'sgdg': 54354, 'uhfdhhjdf': 555, 'hhh': 777, 'kkk': 999}\n"
     ]
    }
   ],
   "source": [
    "budget = {}\n",
    "for i in range(5):\n",
    "    name = input('enter name:')\n",
    "    amount = int(input('enter amount'))\n",
    "    budget[name]= amount\n",
    "pp(budget) "
   ]
  },
  {
   "cell_type": "code",
   "execution_count": 19,
   "metadata": {},
   "outputs": [
    {
     "data": {
      "text/plain": [
       "dict_items([('sgdg', 54354), ('uhfdhhjdf', 555), ('hhh', 777), ('kkk', 999)])"
      ]
     },
     "execution_count": 19,
     "metadata": {},
     "output_type": "execute_result"
    }
   ],
   "source": [
    "budget.items()"
   ]
  },
  {
   "cell_type": "code",
   "execution_count": 22,
   "metadata": {},
   "outputs": [
    {
     "name": "stdout",
     "output_type": "stream",
     "text": [
      "sgdg 54354\n",
      "uhfdhhjdf 555\n",
      "hhh 777\n",
      "kkk 999\n"
     ]
    }
   ],
   "source": [
    "for k , v in budget.items():\n",
    "    print(k , v)"
   ]
  },
  {
   "cell_type": "code",
   "execution_count": 23,
   "metadata": {},
   "outputs": [
    {
     "name": "stdout",
     "output_type": "stream",
     "text": [
      "1 a\n",
      "2 b\n",
      "3 c\n",
      "4 d\n",
      "5 e\n"
     ]
    }
   ],
   "source": [
    "for k , v in info.items():\n",
    "    print(k,v)"
   ]
  },
  {
   "cell_type": "code",
   "execution_count": 25,
   "metadata": {},
   "outputs": [
    {
     "name": "stdout",
     "output_type": "stream",
     "text": [
      "total_amount = 56685\n"
     ]
    }
   ],
   "source": [
    "total_amount = 0\n",
    "for k , v in budget.items():\n",
    "    total_amount +=v\n",
    "print(f'{total_amount = }')"
   ]
  },
  {
   "cell_type": "code",
   "execution_count": 27,
   "metadata": {},
   "outputs": [
    {
     "data": {
      "text/plain": [
       "999"
      ]
     },
     "execution_count": 27,
     "metadata": {},
     "output_type": "execute_result"
    }
   ],
   "source": [
    "budget.pop('kkk')"
   ]
  },
  {
   "cell_type": "code",
   "execution_count": 29,
   "metadata": {},
   "outputs": [
    {
     "data": {
      "text/plain": [
       "{'a': 0, 'b': 0, 'c': 0}"
      ]
     },
     "execution_count": 29,
     "metadata": {},
     "output_type": "execute_result"
    }
   ],
   "source": [
    " {}.fromkeys(['a','b','c'],0)"
   ]
  },
  {
   "attachments": {},
   "cell_type": "markdown",
   "metadata": {},
   "source": [
    "wap to create a dict `contacts` with name and number\n",
    "- give option to add a contact\n",
    "- give option to view contacts\n",
    "- give option to delete a contact \n",
    "answer in file contact.py"
   ]
  },
  {
   "cell_type": "code",
   "execution_count": 6,
   "metadata": {},
   "outputs": [],
   "source": [
    "# wap to combine two dictionary and adding the value of commmon keys\n",
    "d1 = {'a':100,'b':200,'c':300}\n",
    "d2 = {'a':300,'b':200,'d':400}\n"
   ]
  },
  {
   "cell_type": "code",
   "execution_count": 20,
   "metadata": {},
   "outputs": [
    {
     "name": "stdout",
     "output_type": "stream",
     "text": [
      "a =1\n",
      "p =2\n",
      "p =2\n",
      "l =1\n",
      "e =1\n",
      "{'a': 1, 'p': 2, 'l': 1, 'e': 1}\n"
     ]
    }
   ],
   "source": [
    "# wap to create a dictionary from a string . track the count of the letters from the string \n",
    "str = input(\"enter yor string\")\n",
    "c=0\n",
    "d = {}\n",
    "for i in str:\n",
    "    c = str.count(i)\n",
    "    if c > 0:\n",
    "        d[i]=c\n",
    "        print(f'{i} ={c}')\n",
    "print(d)     \n"
   ]
  },
  {
   "cell_type": "code",
   "execution_count": 3,
   "metadata": {},
   "outputs": [
    {
     "name": "stdout",
     "output_type": "stream",
     "text": [
      "{'c1': 'red', 'c2': 'green', 'c3': 'none', 'c4': 'none'}\n"
     ]
    },
    {
     "name": "stderr",
     "output_type": "stream",
     "text": [
      "<>:5: SyntaxWarning: \"is not\" with a literal. Did you mean \"!=\"?\n",
      "<>:5: SyntaxWarning: \"is not\" with a literal. Did you mean \"!=\"?\n",
      "C:\\Users\\DELL\\AppData\\Local\\Temp\\ipykernel_9924\\3786386862.py:5: SyntaxWarning: \"is not\" with a literal. Did you mean \"!=\"?\n",
      "  if v is not 'none':\n"
     ]
    }
   ],
   "source": [
    "#wap to drop empty items from a dictionary \n",
    "d1 = {'c1':'red','c2':'green','c3':'none','c4':'none'}\n",
    "d = {}\n",
    "for k , v in d1.items():\n",
    "    if v is not 'none':\n",
    "        d[k]= v\n",
    "print(d1)\n"
   ]
  }
 ],
 "metadata": {
  "kernelspec": {
   "display_name": "base",
   "language": "python",
   "name": "python3"
  },
  "language_info": {
   "codemirror_mode": {
    "name": "ipython",
    "version": 3
   },
   "file_extension": ".py",
   "mimetype": "text/x-python",
   "name": "python",
   "nbconvert_exporter": "python",
   "pygments_lexer": "ipython3",
   "version": "3.9.12"
  },
  "orig_nbformat": 4,
  "vscode": {
   "interpreter": {
    "hash": "8c46ac5aaab4d3c9f2f9be91c3b9b95f2b8ede1f4aae554ca1e34eefcba1468b"
   }
  }
 },
 "nbformat": 4,
 "nbformat_minor": 2
}
